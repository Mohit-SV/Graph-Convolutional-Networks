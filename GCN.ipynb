{
  "nbformat": 4,
  "nbformat_minor": 0,
  "metadata": {
    "colab": {
      "name": "DL_Assignment_4b.ipynb",
      "provenance": [],
      "collapsed_sections": []
    },
    "kernelspec": {
      "name": "python3",
      "display_name": "Python 3"
    },
    "accelerator": "GPU"
  },
  "cells": [
    {
      "cell_type": "markdown",
      "source": [
        "\n",
        "\n",
        "*   Azhar Shaikh: nr: 270184, VUnet id: ash241\n",
        "*   Don Mani: nr: 269343, VUnet id: dmi670\n",
        "*   Venkat Mohit Sornapudi: nr: 2721697 VUnet id: vsi410\n",
        "\n",
        "\n",
        "\n",
        "\n",
        "\n"
      ],
      "metadata": {
        "id": "k18uR0LX1DSX"
      }
    },
    {
      "cell_type": "markdown",
      "metadata": {
        "id": "aJ_pmgxvGur9"
      },
      "source": [
        "# Assignment 4 - Graph Convolutional Networks\n",
        "## Deep Learning Course - Vrije Universiteit Amsterdam, 2021"
      ]
    },
    {
      "cell_type": "markdown",
      "metadata": {
        "id": "mEneMITS2agU"
      },
      "source": [
        "#### Instructions on how to use this notebook:\n",
        "\n",
        "This notebook is hosted on Google Colab. To be able to work on it, you have to create your own copy. Go to *File* and select *Save a copy in Drive*.\n",
        "\n",
        "You can also avoid using Colab entirely, and download the notebook to run it on your own machine. If you choose this, go to *File* and select *Download .ipynb*.\n",
        "\n",
        "The advantage of using Colab is that you can use a GPU. You can complete this assignment with a CPU, but it will take a bit longer. Furthermore, we encourage you to train using the GPU not only for faster training, but also to get experience with this setting. This includes moving models and tensors to the GPU and back. This experience is vary valuable because for many interesting models and large datasets (like large CNNs for ImageNet, or Transformer models trained on Wikipedia), training on GPU is the only feasible way.\n",
        "\n",
        "The default Colab runtime does not have a GPU. To change this, go to *Runtime - Change runtime type*, and select *GPU* as the hardware accelerator. The GPU that you get changes according to what resources are available at the time, and its memory can go from a 5GB, to around 18GB if you are lucky. If you are curious, you can run the following in a code cell to check:\n",
        "\n",
        "```sh\n",
        "!nvidia-smi\n",
        "```\n",
        "\n",
        "Note that despite the name, Google Colab does  not support collaborative work without issues. When two or more people edit the notebook concurrently, only one version will be saved. You can choose to do group programming with one person sharing the screen with the others, or make multiple copies of the notebook to work concurrently.\n",
        "\n",
        "**Submission:** Upload your notebook in .ipynb format to Canvas. The code and answers to the questions in the notebook are sufficient, no separate report is expected. "
      ]
    },
    {
      "cell_type": "code",
      "metadata": {
        "id": "lBgoJIpdLI2Y",
        "colab": {
          "base_uri": "https://localhost:8080/"
        },
        "outputId": "981f309b-4900-421b-b253-970b401f83be"
      },
      "source": [
        "!nvidia-smi"
      ],
      "execution_count": null,
      "outputs": [
        {
          "output_type": "stream",
          "name": "stdout",
          "text": [
            "Sun Dec 19 18:44:19 2021       \n",
            "+-----------------------------------------------------------------------------+\n",
            "| NVIDIA-SMI 495.44       Driver Version: 460.32.03    CUDA Version: 11.2     |\n",
            "|-------------------------------+----------------------+----------------------+\n",
            "| GPU  Name        Persistence-M| Bus-Id        Disp.A | Volatile Uncorr. ECC |\n",
            "| Fan  Temp  Perf  Pwr:Usage/Cap|         Memory-Usage | GPU-Util  Compute M. |\n",
            "|                               |                      |               MIG M. |\n",
            "|===============================+======================+======================|\n",
            "|   0  Tesla K80           Off  | 00000000:00:04.0 Off |                    0 |\n",
            "| N/A   72C    P8    30W / 149W |      0MiB / 11441MiB |      0%      Default |\n",
            "|                               |                      |                  N/A |\n",
            "+-------------------------------+----------------------+----------------------+\n",
            "                                                                               \n",
            "+-----------------------------------------------------------------------------+\n",
            "| Processes:                                                                  |\n",
            "|  GPU   GI   CI        PID   Type   Process name                  GPU Memory |\n",
            "|        ID   ID                                                   Usage      |\n",
            "|=============================================================================|\n",
            "|  No running processes found                                                 |\n",
            "+-----------------------------------------------------------------------------+\n"
          ]
        }
      ]
    },
    {
      "cell_type": "markdown",
      "metadata": {
        "id": "tsdc7fDp40rQ"
      },
      "source": [
        "### Introduction\n",
        "\n",
        "Graphs are very useful data structures that allow us to represent sets of entities and the way they are related among each other. In a graph, entities are also known as *nodes*, and any link between entities is also called an *edge*.\n",
        "\n",
        "Examples of real world objects that can be modeled as graphs are social networks, where entities are people and relations denote friendship; and molecules, where entities are atoms and relations indicate a bond between them.\n",
        "\n",
        "There has been increased interest in the recent years in the application of deep learning architectures to graph-structured data, for tasks like predicting missing relations between entities, classifying entities, and classifying graphs. This interest has been spurred by the introduction of Graph Convolutional Networks (GCNs).\n",
        "\n",
        "In this assignment, you will implement and experiment with one of the first versions of the GCN, proposed by Thomas Kipf and Max Welling in their 2017 paper, [Semi-supervised Classification with Graph Convolutional Networks](https://arxiv.org/abs/1609.02907). In particular, the goals of this assignment are to\n",
        "\n",
        "- Understand how GCNs are formulated\n",
        "- Implement the GCN using PyTorch\n",
        "- Train and evaluate a model for semi-supervised node classification in citation networks\n",
        "- Train and evaluate a model for binary classification of molecules"
      ]
    },
    {
      "cell_type": "markdown",
      "metadata": {
        "id": "RvsuVNczG6pP"
      },
      "source": [
        "### Representing graphs\n",
        "\n",
        "Suppose we have the following graph:\n",
        "\n",
        "<img src=\"https://raw.githubusercontent.com/dfdazac/dlvu-a5/main/img/01-graph.png\" width=\"200\">\n",
        "\n",
        "This is an undirected graph (since the edges have no specified direction) with 4 nodes. One way to represent the connectivity structure of the graph is by means of the **adjacency matrix**. The $i$-th row of the matrix contains a 1 in the $j$-th column, if nodes $i$ and $j$ are connected. For an undirected graph like the one above, this means that the adjacency matrix\n",
        "\n",
        "- Is symmetric (e.g. an edge between 0 and 2 is equivalent as an edge between 2 and 0)\n",
        "- Is square, of size $n\\times n$ where $n$ is the number of nodes\n",
        "\n",
        "The adjacency matrix for the graph above is then the following:\n",
        "\n",
        "$$\n",
        "A =\n",
        "\\begin{bmatrix}\n",
        "0 & 0 & 1 & 0 \\\\ \n",
        "0 & 0 & 1 & 0 \\\\\n",
        "1 & 1 & 0 & 1 \\\\\n",
        "0 & 0 & 1 & 0\n",
        "\\end{bmatrix}\n",
        "$$\n",
        "\n",
        "A second matrix of interest is the **degree matrix**. This is a diagonal matrix where the $i$-th element of the diagonal indicates the number of edges connected to node $i$. Note that these can be obtained from $A$ by summing across the columns, or the rows. For our example, the degree matrix is\n",
        "\n",
        "$$\n",
        "D = \\begin{bmatrix}\n",
        "1 & 0 & 0 & 0 \\\\ \n",
        "0 & 1 & 0 & 0 \\\\\n",
        "0 & 0 & 3 & 0 \\\\\n",
        "0 & 0 & 0 & 1\n",
        "\\end{bmatrix}\n",
        "$$\n",
        "\n",
        "For specific applications, each node in the graph will have an associated vector of features $x\\in\\mathbb{R}^c$. If our graph is a social network, then the vector of features can contain information like age, location, and musical tastes, in a specific numeric format. In the case of a molecule, the node could represent an atom and have features like the atomic mass, etc. We can lay out the features in a matrix $X\\in\\mathbb{R}^{n\\times c}$, so that the feature vector for node $i$ is in the $i$-th row."
      ]
    },
    {
      "cell_type": "markdown",
      "metadata": {
        "id": "zCEQ2ffzHCf2"
      },
      "source": [
        "### Loading a citation network\n",
        "\n",
        "To move to a real world example, we will start with the Cora dataset. This dataset represents a citation network, where nodes are scientific publications, edges denote citations between them, and features are a [bag-of-words](https://en.wikipedia.org/wiki/Bag-of-words_model) extracted from their contents.\n",
        "\n",
        "This graph contains labels for nodes, that represent a specific topic. We will use these for a node classification task.\n",
        "\n",
        "To easily load it, we will use [PyTorch Geometric](https://pytorch-geometric.readthedocs.io/en/latest/index.html) (PyG), a deep learning library for graph-structured data."
      ]
    },
    {
      "cell_type": "code",
      "metadata": {
        "id": "Yd2bTEBADt-a",
        "colab": {
          "base_uri": "https://localhost:8080/"
        },
        "outputId": "b41ac21a-d5e7-40e5-8fa2-7c980d25f124"
      },
      "source": [
        "# Install PyTorch Geometric\n",
        "!pip install torch-scatter torch-sparse torch-cluster torch-spline-conv torch-geometric -f https://data.pyg.org/whl/torch-1.10.0+cu113.html"
      ],
      "execution_count": null,
      "outputs": [
        {
          "output_type": "stream",
          "name": "stdout",
          "text": [
            "Looking in links: https://data.pyg.org/whl/torch-1.10.0+cu113.html\n",
            "Requirement already satisfied: torch-scatter in /usr/local/lib/python3.7/dist-packages (2.0.9)\n",
            "Requirement already satisfied: torch-sparse in /usr/local/lib/python3.7/dist-packages (0.6.12)\n",
            "Requirement already satisfied: torch-cluster in /usr/local/lib/python3.7/dist-packages (1.5.9)\n",
            "Requirement already satisfied: torch-spline-conv in /usr/local/lib/python3.7/dist-packages (1.2.1)\n",
            "Requirement already satisfied: torch-geometric in /usr/local/lib/python3.7/dist-packages (2.0.2)\n",
            "Requirement already satisfied: scipy in /usr/local/lib/python3.7/dist-packages (from torch-sparse) (1.4.1)\n",
            "Requirement already satisfied: requests in /usr/local/lib/python3.7/dist-packages (from torch-geometric) (2.23.0)\n",
            "Requirement already satisfied: networkx in /usr/local/lib/python3.7/dist-packages (from torch-geometric) (2.6.3)\n",
            "Requirement already satisfied: yacs in /usr/local/lib/python3.7/dist-packages (from torch-geometric) (0.1.8)\n",
            "Requirement already satisfied: pandas in /usr/local/lib/python3.7/dist-packages (from torch-geometric) (1.1.5)\n",
            "Requirement already satisfied: googledrivedownloader in /usr/local/lib/python3.7/dist-packages (from torch-geometric) (0.4)\n",
            "Requirement already satisfied: scikit-learn in /usr/local/lib/python3.7/dist-packages (from torch-geometric) (1.0.1)\n",
            "Requirement already satisfied: numpy in /usr/local/lib/python3.7/dist-packages (from torch-geometric) (1.19.5)\n",
            "Requirement already satisfied: pyparsing in /usr/local/lib/python3.7/dist-packages (from torch-geometric) (3.0.6)\n",
            "Requirement already satisfied: rdflib in /usr/local/lib/python3.7/dist-packages (from torch-geometric) (6.0.2)\n",
            "Requirement already satisfied: tqdm in /usr/local/lib/python3.7/dist-packages (from torch-geometric) (4.62.3)\n",
            "Requirement already satisfied: PyYAML in /usr/local/lib/python3.7/dist-packages (from torch-geometric) (3.13)\n",
            "Requirement already satisfied: jinja2 in /usr/local/lib/python3.7/dist-packages (from torch-geometric) (2.11.3)\n",
            "Requirement already satisfied: MarkupSafe>=0.23 in /usr/local/lib/python3.7/dist-packages (from jinja2->torch-geometric) (2.0.1)\n",
            "Requirement already satisfied: python-dateutil>=2.7.3 in /usr/local/lib/python3.7/dist-packages (from pandas->torch-geometric) (2.8.2)\n",
            "Requirement already satisfied: pytz>=2017.2 in /usr/local/lib/python3.7/dist-packages (from pandas->torch-geometric) (2018.9)\n",
            "Requirement already satisfied: six>=1.5 in /usr/local/lib/python3.7/dist-packages (from python-dateutil>=2.7.3->pandas->torch-geometric) (1.15.0)\n",
            "Requirement already satisfied: setuptools in /usr/local/lib/python3.7/dist-packages (from rdflib->torch-geometric) (57.4.0)\n",
            "Requirement already satisfied: isodate in /usr/local/lib/python3.7/dist-packages (from rdflib->torch-geometric) (0.6.1)\n",
            "Requirement already satisfied: idna<3,>=2.5 in /usr/local/lib/python3.7/dist-packages (from requests->torch-geometric) (2.10)\n",
            "Requirement already satisfied: certifi>=2017.4.17 in /usr/local/lib/python3.7/dist-packages (from requests->torch-geometric) (2021.10.8)\n",
            "Requirement already satisfied: urllib3!=1.25.0,!=1.25.1,<1.26,>=1.21.1 in /usr/local/lib/python3.7/dist-packages (from requests->torch-geometric) (1.24.3)\n",
            "Requirement already satisfied: chardet<4,>=3.0.2 in /usr/local/lib/python3.7/dist-packages (from requests->torch-geometric) (3.0.4)\n",
            "Requirement already satisfied: joblib>=0.11 in /usr/local/lib/python3.7/dist-packages (from scikit-learn->torch-geometric) (1.1.0)\n",
            "Requirement already satisfied: threadpoolctl>=2.0.0 in /usr/local/lib/python3.7/dist-packages (from scikit-learn->torch-geometric) (3.0.0)\n"
          ]
        }
      ]
    },
    {
      "cell_type": "code",
      "source": [
        "import torch\n",
        "import numpy as np\n",
        "import torch.nn as nn\n",
        "import torch.optim as optim \n",
        "from scipy.sparse import coo_matrix, diags, eye, identity, block_diag\n",
        "import matplotlib.pyplot as plt\n",
        "import torch_scatter"
      ],
      "metadata": {
        "id": "0W-xH2cjMU78"
      },
      "execution_count": null,
      "outputs": []
    },
    {
      "cell_type": "markdown",
      "metadata": {
        "id": "V0Nvh_-qEo1q"
      },
      "source": [
        "We can now use the library to download and import the dataset. Initializing the `Planetoid` class returns a `Dataset` object that can contain multiple graphs. In this task we will only use the `Cora` dataset (the citation network) and hence, we will select only the first element."
      ]
    },
    {
      "cell_type": "code",
      "metadata": {
        "id": "vuOvwhsHD2YK"
      },
      "source": [
        "from torch_geometric.datasets import Planetoid\n",
        "data = Planetoid(root='data/Planetoid', name='Cora')[0]"
      ],
      "execution_count": null,
      "outputs": []
    },
    {
      "cell_type": "markdown",
      "metadata": {
        "id": "v4WZkoiHFyZm"
      },
      "source": [
        "\n",
        "#### Question 1 (0.25 pt)\n",
        "\n",
        "The `data` object is an instance of the `Data` class in PyG. Check the [documentation](https://pytorch-geometric.readthedocs.io/en/latest/modules/data.html) and report the following properties of the graph:\n",
        "\n",
        "- Number of nodes\n",
        "- Number of edges \n",
        "- The dimension $d$ of the feature vectors $x\\in\\mathbb{R}^d$\n",
        "- The number of targets for the classification task"
      ]
    },
    {
      "cell_type": "code",
      "metadata": {
        "id": "sjVuGJhlJC_7",
        "colab": {
          "base_uri": "https://localhost:8080/"
        },
        "outputId": "a90ba03b-b5d2-40ee-d26a-d305c18dbc47"
      },
      "source": [
        "# nodes\n",
        "n_nodes = data.num_nodes\n",
        "print(f'Number of nodes: {n_nodes}')"
      ],
      "execution_count": null,
      "outputs": [
        {
          "output_type": "stream",
          "name": "stdout",
          "text": [
            "Number of nodes: 2708\n"
          ]
        }
      ]
    },
    {
      "cell_type": "code",
      "source": [
        "# edges\n",
        "n_edges = data.num_edges\n",
        "print(f'Number of edges: {n_edges}')"
      ],
      "metadata": {
        "id": "9QfG_8OWypqq",
        "colab": {
          "base_uri": "https://localhost:8080/"
        },
        "outputId": "55549e7c-8591-4b58-e369-0de554407e8e"
      },
      "execution_count": null,
      "outputs": [
        {
          "output_type": "stream",
          "name": "stdout",
          "text": [
            "Number of edges: 10556\n"
          ]
        }
      ]
    },
    {
      "cell_type": "code",
      "source": [
        "n_features = data.x.shape[1] # features\n",
        "print(f'The dimension d of the feature vectors: {n_features}')"
      ],
      "metadata": {
        "id": "lHErA08Ry-vI",
        "colab": {
          "base_uri": "https://localhost:8080/"
        },
        "outputId": "7c59357c-ee9d-4e1e-c3cd-aec5fc264cce"
      },
      "execution_count": null,
      "outputs": [
        {
          "output_type": "stream",
          "name": "stdout",
          "text": [
            "The dimension d of the feature vectors: 1433\n"
          ]
        }
      ]
    },
    {
      "cell_type": "code",
      "source": [
        "n_classes = len(torch.unique(data.y)) #classes\n",
        "print(f'The number of targets for the classification task: {n_classes}')"
      ],
      "metadata": {
        "id": "hdz-ZJbIz1Sv",
        "colab": {
          "base_uri": "https://localhost:8080/"
        },
        "outputId": "fa0eda38-48f3-4ead-81ac-8db952333db9"
      },
      "execution_count": null,
      "outputs": [
        {
          "output_type": "stream",
          "name": "stdout",
          "text": [
            "The number of targets for the classification task: 7\n"
          ]
        }
      ]
    },
    {
      "cell_type": "markdown",
      "metadata": {
        "id": "G4DrGDAuJ2YO"
      },
      "source": [
        "#### Question 2 (0.25 pt)\n",
        "\n",
        "In PyG, edges are provided in a tensor of shape (2, number of edges). You can access it via `data.edge_index`. Each column in this tensor contains the IDs for two nodes that are connected in the graph.\n",
        "\n",
        "We saw that in an undirected graph, an edge between nodes $i$ and $j$ adds a value of 1 to positions $(i, j)$ and $(j, i)$ of the adjacency matrix. Is this also true for the edge index? That is, if there is an edge $(i, j)$ in `data.edge_index`, is there also an edge for $(j, i)$? This is important to know for the next steps of the implementation."
      ]
    },
    {
      "cell_type": "code",
      "metadata": {
        "id": "jTRfNxibarRZ",
        "colab": {
          "base_uri": "https://localhost:8080/"
        },
        "outputId": "87cecb95-a42a-4c62-da2b-7d730a2e1fbc"
      },
      "source": [
        "# Your answer here\n",
        "edge_indxs = data.edge_index\n",
        "edge_indxs"
      ],
      "execution_count": null,
      "outputs": [
        {
          "output_type": "execute_result",
          "data": {
            "text/plain": [
              "tensor([[   0,    0,    0,  ..., 2707, 2707, 2707],\n",
              "        [ 633, 1862, 2582,  ...,  598, 1473, 2706]])"
            ]
          },
          "metadata": {},
          "execution_count": 9
        }
      ]
    },
    {
      "cell_type": "code",
      "source": [
        "# by assertion by loop\n",
        "for first_indx in edge_indxs[0,:]:\n",
        "  indx_comb_list = np.array([edge_indxs[:,indx_comb[1]].numpy() for indx_comb in (edge_indxs == first_indx).nonzero(as_tuple=False)])\n",
        "  for indx_comb in indx_comb_list:\n",
        "    assert indx_comb[::-1] in indx_comb_list  # checking whether reversed index combination exists in the edge indices\n",
        "# So yes, it is true for the edge index that whenever edge (i,j) exist, that (j,i) also exists."
      ],
      "metadata": {
        "id": "ADloLuUG8aFc"
      },
      "execution_count": null,
      "outputs": []
    },
    {
      "cell_type": "markdown",
      "metadata": {
        "id": "YOpS3QTYiOqp"
      },
      "source": [
        "#### Question 3 (0.25 pt)\n",
        "\n",
        "In graphs, especially large ones, the adjacency matrix is **sparse**: most entries are zero. Sparse matrices allow for efficient storage and computation.\n",
        "\n",
        "To prepare and pre-process sparse matrices, we will use [`scipy.sparse`](https://docs.scipy.org/doc/scipy/reference/sparse.html). Once the matrices are ready, we will convert them to PyTorch tensors.\n",
        "\n",
        "We will use the [Sparse COO format](https://en.wikipedia.org/wiki/Sparse_matrix#Coordinate_list_(COO)). We encourage you to first get familiar with how it works after continuing with the assignment.\n",
        "\n",
        "- Use the [`scipy.sparse.coo_matrix()`](https://docs.scipy.org/doc/scipy/reference/generated/scipy.sparse.coo_matrix.html) function to build the adjacency matrix. Think of what arguments are needed, and how you can obtain them from the graph data loaded above.\n",
        "- Use the `sum()` method of sparse matrices, together with `scipy.sparse.diags()`, to compute the degree matrix using the definition above.\n",
        "\n",
        "Both resulting matrices must be sparse of type `float32`."
      ]
    },
    {
      "cell_type": "code",
      "source": [
        "# Build the adjacency matrix\n",
        "data_edges = np.ones([n_edges], dtype=np.float32)\n",
        "i, j = edge_indxs[0,:], edge_indxs[1,:]\n",
        "shape = (n_nodes, n_nodes)\n",
        "A = coo_matrix((data_edges, (i,j)), shape)\n",
        "\n",
        "# Build the degree matrix\n",
        "# Only sum one row because we shouldn't count connections twice.\n",
        "summed = A.sum(axis=0, dtype=np.float32)\n",
        "D = diags(summed, [0,], shape=shape, format=\"coo\")"
      ],
      "metadata": {
        "id": "pyA7H_zCM34d"
      },
      "execution_count": null,
      "outputs": []
    },
    {
      "cell_type": "markdown",
      "metadata": {
        "id": "AIEJyQi2TzyY"
      },
      "source": [
        "You might wonder why we suggest to use a scipy sparse matrix, while also PyTorch supports them. The reason is that in the next step, we will be multiplying two sparse matrices, an operation not supported in PyTorch. PyTorch only allows multiplying a sparse matrix with a dense one, something which we will be doing at a later stage.\n",
        "\n"
      ]
    },
    {
      "cell_type": "markdown",
      "metadata": {
        "id": "YlmzSb0up4LB"
      },
      "source": [
        "### The Graph Convolutional Network\n",
        "\n",
        "The goal of the graph convolution is to take the feature vectors of all nodes $X\\in\\mathbb{R}^{n\\times c}$, and propagate them along the existing edges, to obtain updated representations $Z\\in\\mathbb{R}^{n\\times d}$.\n",
        "\n",
        "\n",
        "The GCN is initially motivated as performing a convolution, similarly as it is done in CNNs for images, for graph-structured data. In Kipf and Welling (2017), a theoretical derivation leads to the following formula:\n",
        "\n",
        "$$\n",
        "Z = \\tilde{D}^{-\\frac{1}{2}}\\tilde{A}\\tilde{D}^{-\\frac{1}{2}}XW\n",
        "$$\n",
        "\n",
        "where\n",
        "\n",
        "- $W\\in\\mathbb{R}^{c\\times d}$ is a matrix of parameters to be learned via gradient descent\n",
        "- $\\tilde{A} = A + I_n$, where $I_n$ is an $n\\times n$ identity matrix\n",
        "- $\\tilde{D}$ is the degree matrix computed with $\\tilde{A}$ as the adjacency matrix\n",
        "\n",
        "If we define $\\hat{A} = \\tilde{D}^{-\\frac{1}{2}}\\tilde{A}\\tilde{D}^{-\\frac{1}{2}}$, the graph convolution can be written as $Z = \\hat{A}XW$."
      ]
    },
    {
      "cell_type": "markdown",
      "metadata": {
        "id": "LL4b-MTvysBp"
      },
      "source": [
        "#### Question 4 (0.25 pt)\n",
        "\n",
        "Given the formula for the GCN, explain why it operates by propagating feature vectors across the graph. To answer this, it might be useful to recall the definitions of the adjacency and degree matrices, and how they are involved in the formula."
      ]
    },
    {
      "cell_type": "markdown",
      "metadata": {
        "id": "Vgx2SkTTyiSN"
      },
      "source": [
        "We can think of the multiplication with the adjacency matrix A as a operation that propagates information about neighbours of any given node into a node. Adding a self-loop ($\\tilde{A}= A + I$) to the node enables propagation of the node's feature vector to itself. Using WX using a neural network gives us an updated hidden representation which is again propogated using the propogation rule $$\n",
        "Z = \\tilde{D}^{-\\frac{1}{2}}\\tilde{A}\\tilde{D}^{-\\frac{1}{2}}XW\n",
        "$$therefore enabling model to learn information about all the nodes in the graph. We normalise the $\\tilde{A}$ with $\\tilde{D}$ the degree matrix to get the  normalized adjacancy matrix $\\hat{A}$ , this normalises the effect of the number of incoming edges for node and helps avoid numerical instabilities\n",
        "and exploding/vanishing gradients."
      ]
    },
    {
      "cell_type": "markdown",
      "metadata": {
        "id": "QUGABEqxylsd"
      },
      "source": [
        "#### Question 5 (0.5 pt)\n",
        "\n",
        "Compute the **normalized adjacency matrix** $\\hat{A}$. The result should be a sparse matrix."
      ]
    },
    {
      "cell_type": "code",
      "source": [
        "A_tilde = A + eye(m=A.shape[0], format=\"coo\", dtype=np.float32)\n",
        "D_tilde = D + identity(n=A_tilde.shape[0], dtype=np.float32, format=\"coo\")\n",
        "A_norm = ((D_tilde.power(-0.5)).dot(A_tilde)).dot((D_tilde.power(-0.5))).tocoo()"
      ],
      "metadata": {
        "id": "ejS9HQ_Pa3zj"
      },
      "execution_count": null,
      "outputs": []
    },
    {
      "cell_type": "markdown",
      "metadata": {
        "id": "LLLdGdZoMEy-"
      },
      "source": [
        "#### Question 6 (0.5 pt)\n",
        "\n",
        "So far we have used scipy to build and compute sparse matrices. Since we want to train a GCN with PyTorch, we need to convert $\\hat{A}$ into a sparse PyTorch tensor. You can do this with the [`torch.sparse_coo_tensor()`](https://pytorch.org/docs/stable/generated/torch.sparse_coo_tensor.html) function, making sure to specify `torch.float` as the type."
      ]
    },
    {
      "cell_type": "code",
      "source": [
        "values = A_norm.data\n",
        "indices = np.vstack((A_norm.row, A_norm.col))\n",
        "A_norm_tor = torch.sparse_coo_tensor(indices, values)"
      ],
      "metadata": {
        "id": "Nsd56qrXUWA9"
      },
      "execution_count": null,
      "outputs": []
    },
    {
      "cell_type": "markdown",
      "metadata": {
        "id": "eAlRVT5aODkX"
      },
      "source": [
        "#### Question 7 (0.5 pt)\n",
        "\n",
        "We now have all the ingredients to build a GCN layer. Implement a class (inheriting from `torch.nn.Module`) with a learnable matrix of weights $W\\in\\mathbb{R}^{c\\times d}$. Make sure to\n",
        "\n",
        "- Call this class `GCNLayer`\n",
        "- The `__init__()` constructor should take as argument the number of input and output features.\n",
        "- Use `torch.nn.init.kaiming_uniform_` to initialize $W$.\n",
        "- Define the `forward` method, which takes as input $X$ and $\\hat{A}$ and returns $Z$. Note that multiplications involving the sparse matrix $\\hat{A}$ have to be done with `torch.spmm`. \n",
        "\n",
        "Once you have implemented the class, instantiate a layer with the correct number of input features for the Cora dataset, and a number of output features of your choice. Do a forward pass and report the shape of the output tensor."
      ]
    },
    {
      "cell_type": "code",
      "metadata": {
        "id": "JFCohhhwPpTT",
        "colab": {
          "base_uri": "https://localhost:8080/"
        },
        "outputId": "cd2dc98c-70c4-4251-e1e2-7503084ccc4a"
      },
      "source": [
        "# Your answer here\n",
        "class GCNlayer(nn.Module):\n",
        "  def __init__(self, inputs, outputs):\n",
        "    super(GCNlayer, self).__init__()\n",
        "    self.gcn_weight = nn.Linear(inputs, outputs, bias=False)\n",
        "    nn.init.kaiming_uniform_(self.gcn_weight.weight)\n",
        "\n",
        "  def forward(self, X, A_norm):\n",
        "    result = torch.spmm(A_norm, X)\n",
        "    return self.gcn_weight(result)\n",
        "\n",
        "gcn1 = GCNlayer(n_features, outputs=10)\n",
        "out = gcn1(data.x, A_norm_tor)\n",
        "print(f'The Shape of the output Tensor is:{out.size()}')"
      ],
      "execution_count": null,
      "outputs": [
        {
          "output_type": "stream",
          "name": "stdout",
          "text": [
            "The Shape of the output Tensor is:torch.Size([2708, 10])\n"
          ]
        }
      ]
    },
    {
      "cell_type": "markdown",
      "metadata": {
        "id": "1ptAiizZUKaM"
      },
      "source": [
        "#### Question 8 (0.5 pt)\n",
        "\n",
        "As we have seen so far, the GCN layer implements a special type of linear transformation of the inputs. However, it is often beneficial in deep learning to stack multiple, non-linear transformations of the input features. Implement a second module class for a model with two GCN layers (use the module you implemented in the previous question).\n",
        "\n",
        "- Call this class `GCN`\n",
        "- The constructor must now take as input the number of input features, the output dimension of the first layer (this is the hidden layer), and the output dimension of the output layer.\n",
        "- In the forward pass, add a ReLU activation function after the first layer."
      ]
    },
    {
      "cell_type": "code",
      "metadata": {
        "id": "2zhyu3S9Vj3b"
      },
      "source": [
        "# Your answer here\n",
        "class GCN(nn.Module):\n",
        "  def __init__(self, in_features, hidden_features, out_features):\n",
        "    super(GCN, self).__init__()\n",
        "    self.gcn1 = GCNlayer(in_features, hidden_features)\n",
        "    self.gcn2 = GCNlayer(hidden_features, out_features)\n",
        "    self.relu = nn.ReLU()\n",
        "  \n",
        "  def forward(self, X, A_norm):\n",
        "    Z = self.gcn1(X, A_norm)\n",
        "    Z = self.relu(Z)\n",
        "    Z = self.gcn2(Z, A_norm)\n",
        "    return Z"
      ],
      "execution_count": null,
      "outputs": []
    },
    {
      "cell_type": "markdown",
      "metadata": {
        "id": "6NVB-3I5Wfkf"
      },
      "source": [
        "### GCNs for semi-supervised node classification\n",
        "\n",
        "Now that we have a GCN with two layers, we can test its performance in a node classification task. We will pass the input node features $X$ through the GCN layers, and the output will be of size $n\\times k$ where $k$ is the number of classes (which you found in question 1). The label denotes the topic an article in the citation network belongs to (e.g. physics, computer science, etc.)."
      ]
    },
    {
      "cell_type": "markdown",
      "metadata": {
        "id": "trc4dSa7cuQj"
      },
      "source": [
        "#### Question 9 (1.5 pt)\n",
        "\n",
        "Note that the `data` object contains all labels (for all splits) in `data.y`, and binary masks for the train, validation, and test splits in `data.train_mask`, `data.valid_mask`, and `data.test_mask`, respectively. These masks are the same size as `data.y`, and indicate which labels belong to which split.\n",
        "\n",
        "- Create a GCN with two layers (using the class from the previous question), with 32 as the hidden dimension, and the number of output features equal to the number of classes in the Cora dataset.\n",
        "\n",
        "- Use the Adam optimizer with a learning rate of 0.01.\n",
        "\n",
        "- Implement a training loop for the GCN. At each step, pass $X$ and $\\hat{A}$ to the GCN to obtain the logits. Compute the mean cross-entropy loss **only for the training instances**, using the binary masks.\n",
        "\n",
        "- After each training step, evaluate the accuracy for the validation instances.\n",
        "\n",
        "- Train for 100 epochs. Once training is finished, plot the training loss and validation accuracy (in a graph in function of the epoch number), and report the accuracy in the test set.\n",
        "\n",
        "You should obtain an accuracy over 75% on both the validation and test sets. You can also compare your results with the original paper, which also contains results for the Cora dataset. Give a brief discussion on the results of your experiments.\n",
        "\n",
        "Note that in contrast with other tasks, like image classification on some datasets, we don't use mini-batches here. The whole matrix of features and the adjacency is passed to the GCN in one step."
      ]
    },
    {
      "cell_type": "code",
      "metadata": {
        "id": "5Z2OP_ZRWlmo"
      },
      "source": [
        "def train_step(model, X, A_norm_tor, Y, criterion, optimizer, data_indxs):\n",
        "  out = model(X, A_norm_tor)\n",
        "  out = out[data_indxs]\n",
        "  Y = Y[data_indxs]\n",
        "  loss = criterion(out, Y)\n",
        "  optimizer.zero_grad()\n",
        "  loss.backward()\n",
        "  optimizer.step()\n",
        "  return loss.item()\n",
        "\n",
        "def validate(model, X, A_norm_tor, Y, criterion, data_indxs):\n",
        "  with torch.no_grad():\n",
        "    out = model(X, A_norm_tor)\n",
        "    loss = criterion(out[data_indxs], Y[data_indxs])\n",
        "    preds = out[data_indxs].argmax(dim=1)\n",
        "    acc = 1.0*(preds==Y[data_indxs])\n",
        "    acc = acc.mean()\n",
        "    return acc.item()\n",
        "\n",
        "def train(model, X, A_norm_tor, Y, masks, criterion, optimizer, epochs):\n",
        "\n",
        "  train_accs = []\n",
        "  val_accs = []\n",
        "  epoch_loss = []\n",
        "\n",
        "  for epoch in range(1, epochs+1):\n",
        "    \n",
        "    loss = train_step(model, X, A_norm_tor, Y, criterion, optimizer, masks['train'])\n",
        "    train_acc = validate(model, X, A_norm_tor, Y, criterion, masks['train'])\n",
        "    val_acc = validate(model, X, A_norm_tor, Y, criterion, masks['val'])\n",
        "    if epoch % 10 == 0 or epoch == 1:\n",
        "      print(f'Epoch:{epoch}, Loss:{loss}, val acc:{val_acc}, train acc:{train_acc}')\n",
        "    epoch_loss.append(loss)\n",
        "    train_accs.append(train_acc)\n",
        "    val_accs.append(val_acc)\n",
        "\n",
        "  return model, train_accs, val_accs, epoch_loss"
      ],
      "execution_count": null,
      "outputs": []
    },
    {
      "cell_type": "code",
      "source": [
        "masks = {'train':data.train_mask, 'val':data.val_mask, 'test':data.test_mask}\n",
        "#Hyper - parameters\n",
        "EPOCHS = 100\n",
        "LR = 0.01\n",
        "\n",
        "model = GCN(n_features, 32, n_classes)\n",
        "optimizer = optim.Adam(model.parameters(), LR)\n",
        "criterion = nn.CrossEntropyLoss()\n",
        "model, train_accs, val_accs, epoch_loss = train(model, nn.functional.normalize(data.x, dim=1), A_norm_tor, data.y, masks, criterion, optimizer, epochs=EPOCHS)\n",
        "print(\"Test accuracy: \", validate(model, data.x, A_norm_tor, data.y,criterion, masks['test']))"
      ],
      "metadata": {
        "id": "CdOU6Pwt4dPQ",
        "colab": {
          "base_uri": "https://localhost:8080/"
        },
        "outputId": "d41b07ab-0af7-4fa5-861a-aa3e1d9e1d5f"
      },
      "execution_count": null,
      "outputs": [
        {
          "output_type": "stream",
          "name": "stdout",
          "text": [
            "Epoch:1, Loss:1.9474132061004639, val acc:0.49799999594688416, train acc:0.8714285492897034\n",
            "Epoch:10, Loss:1.3187204599380493, val acc:0.7239999771118164, train acc:0.9785714149475098\n",
            "Epoch:20, Loss:0.5071156024932861, val acc:0.7739999890327454, train acc:0.9785714149475098\n",
            "Epoch:30, Loss:0.1432478278875351, val acc:0.7680000066757202, train acc:1.0\n",
            "Epoch:40, Loss:0.04675739258527756, val acc:0.7699999809265137, train acc:1.0\n",
            "Epoch:50, Loss:0.021075967699289322, val acc:0.7639999985694885, train acc:1.0\n",
            "Epoch:60, Loss:0.012429174967110157, val acc:0.7620000243186951, train acc:1.0\n",
            "Epoch:70, Loss:0.008686828427016735, val acc:0.7639999985694885, train acc:1.0\n",
            "Epoch:80, Loss:0.0067292130552232265, val acc:0.7680000066757202, train acc:1.0\n",
            "Epoch:90, Loss:0.0055205500684678555, val acc:0.7639999985694885, train acc:1.0\n",
            "Epoch:100, Loss:0.00468063959851861, val acc:0.765999972820282, train acc:1.0\n",
            "Test accuracy:  0.7839999794960022\n"
          ]
        }
      ]
    },
    {
      "cell_type": "code",
      "source": [
        "def show_epoch_plot(y, title, label):\n",
        "    plt.plot(range(len(y)), y)\n",
        "    plt.xlabel(\"Epoch\")\n",
        "    plt.ylabel(label)\n",
        "    plt.title(title)\n",
        "    plt.show()\n",
        "\n",
        "show_epoch_plot(epoch_loss, \"Training loss\", \"Loss\")\n",
        "print(\"\")\n",
        "show_epoch_plot(train_accs, \"Training accuracy\", \"Accuracy \")\n",
        "print(\"\")\n",
        "show_epoch_plot(val_accs, \"Validation accuracy\", \"Accuracy \")"
      ],
      "metadata": {
        "id": "urPJ3JgSlmMD",
        "colab": {
          "base_uri": "https://localhost:8080/",
          "height": 886
        },
        "outputId": "4f7a7482-69f7-4abe-9e36-52abf44e7930"
      },
      "execution_count": null,
      "outputs": [
        {
          "output_type": "display_data",
          "data": {
            "image/png": "[encoded data removed]",
            "text/plain": [
              "<Figure size 432x288 with 1 Axes>"
            ]
          },
          "metadata": {
            "needs_background": "light"
          }
        },
        {
          "output_type": "stream",
          "name": "stdout",
          "text": [
            "\n"
          ]
        },
        {
          "output_type": "display_data",
          "data": {
            "image/png": "[encoded data removed]",
            "text/plain": [
              "<Figure size 432x288 with 1 Axes>"
            ]
          },
          "metadata": {
            "needs_background": "light"
          }
        },
        {
          "output_type": "stream",
          "name": "stdout",
          "text": [
            "\n"
          ]
        },
        {
          "output_type": "display_data",
          "data": {
            "image/png": "[encoded data removed]",
            "text/plain": [
              "<Figure size 432x288 with 1 Axes>"
            ]
          },
          "metadata": {
            "needs_background": "light"
          }
        }
      ]
    },
    {
      "cell_type": "markdown",
      "source": [
        "The above experimented resulted in an accuracy of 78.1% on the testset. we observe a final validation accuracy of around 77% from the plots. It is also intresting to observe that the model has completely learned the train dataset as the train loss becomes zero and the train accuracy becomes 100% which usually means the model has overfit but we still get a high validation accuracy and test accuracy implying that the model has generalised well.\n",
        "\n",
        "The original paper by Thomas Kipf and Max Welling report a accuracy of 81.5% on the testset. The high test accuracy of the original paper can be attributed to hyper parameter tuning and other techniques like dropout and L2 regularisation and early stopping."
      ],
      "metadata": {
        "id": "8sCId3bMk9fn"
      }
    },
    {
      "cell_type": "markdown",
      "metadata": {
        "id": "vb5YjHVClCqo"
      },
      "source": [
        "#### Question 10 (0.25 pt)\n",
        "\n",
        "The paper introduces GCNs as a way to solve a *semi-supervised* classification problem.\n",
        "\n",
        "- What makes this problem semi-supervised?\n",
        "- What is the proportion of labeled data used for training with respect to labeled data in the validation and test sets? What is difference in this context with other benchmark tasks in machine learning, like image classification with MNIST?\n",
        "- Why do you think the GCN performs well in this semi-supervised scenario?"
      ]
    },
    {
      "cell_type": "markdown",
      "source": [
        "- Semi-Supervised learning is a paradigm of machine learning where the model learns from both labelled and unlabeled data. In the case of GCN we get valuable information from the unlabeled data through the graph structure which is encoded as an adjacency matrix.\n",
        "- We have only 140 nodes labeled for training out of a total of 2708, The ratio of train/val/test splits is 0.09/0.30/0.61. The bench mark tasks like imagenet or MNIST image classification have large train splits compared to the semi-supervised case usually 80% of the data is used for training while the rest is used for validation and testing as the learning can only happen from the labeled data.\n",
        "- The GCN performs well in the semi-supervised case because it has information about the nodes, edges from the adjacency matrix, this information helps the GCN learn relationships between different nodes\n",
        "that can help in solving the node classification task."
      ],
      "metadata": {
        "id": "sO3OGkEMXoAe"
      }
    },
    {
      "cell_type": "markdown",
      "metadata": {
        "id": "4ihrjZddvz5d"
      },
      "source": [
        "### Loading a dataset of proteins\n",
        "\n",
        "In the previous sections you learned how to pass the adjacency matrix of a graph with a couple of thousand of nodes, to classify each node with a particular label. A different and useful application of GCNs is graph classification.\n",
        "\n",
        "In contrast with the previous part, where there was a single, big graph, in graph classification we have multiple graphs, and each graph can be assigned a label. In this part of the assignment you will implement a classifier for proteins.\n",
        "\n",
        "[Proteins](https://en.wikipedia.org/wiki/Protein_(nutrient)) are parts of the buildings block of life. They consist of chains of amino acids, and can take many shapes. In the PROTEINS dataset, proteins are represented as graphs, where the nodes are amino acids, and an edge between them indicates that they are 6 [Angstroms](https://en.wikipedia.org/wiki/Angstrom) apart. All graphs have a binary label, where 1 means that the protein is not an enzyme.\n",
        "\n",
        "We will start by loading and examining this dataset."
      ]
    },
    {
      "cell_type": "code",
      "metadata": {
        "id": "xmqweMcvnUH6"
      },
      "source": [
        "from torch_geometric.datasets import TUDataset\n",
        "dataset = TUDataset(root='data/TU', name='PROTEINS', use_node_attr=True)"
      ],
      "execution_count": null,
      "outputs": []
    },
    {
      "cell_type": "markdown",
      "metadata": {
        "id": "_oF1gyKPXiz-"
      },
      "source": [
        "#### Question 11 (0.25 pt)\n",
        "\n",
        "Unlike in the previous part, where we selected the first element returned by the loading function, note that here we get all the elements returned by `TUDataset()`. `dataset` is an interable object, that has some similar behaviors as a Python list: you can call `len()` on it, and you can takes slices from it.\n",
        "\n",
        "Each element in `dataset` is a `Data` object containing a graph that represents a protein. This is the same type of object that we used in the previous part to store the Cora citation network.\n",
        "\n",
        "Knowing this, answer the following:\n",
        "\n",
        "- How many proteins (graphs) are there in `dataset`?\n",
        "- Take any protein from `dataset`. How many nodes and edges does it contain? What is its label? How many features does each node have?"
      ]
    },
    {
      "cell_type": "code",
      "metadata": {
        "id": "ZNPsnXXbbHHe",
        "colab": {
          "base_uri": "https://localhost:8080/"
        },
        "outputId": "0d1355b6-ce2a-4647-99a7-eb707e126147"
      },
      "source": [
        "#How many proteins (graphs) are there in dataset?\n",
        "print(f'Number of graphs in dataset: {len(dataset)}')"
      ],
      "execution_count": null,
      "outputs": [
        {
          "output_type": "stream",
          "name": "stdout",
          "text": [
            "Number of graphs in dataset: 1113\n"
          ]
        }
      ]
    },
    {
      "cell_type": "code",
      "source": [
        "#Take any protein from dataset\n",
        "dataset[0]"
      ],
      "metadata": {
        "id": "H7OaMenaqmxa",
        "colab": {
          "base_uri": "https://localhost:8080/"
        },
        "outputId": "a76650ad-9a94-4691-f61e-fe15c3fa79a7"
      },
      "execution_count": null,
      "outputs": [
        {
          "output_type": "execute_result",
          "data": {
            "text/plain": [
              "Data(edge_index=[2, 162], x=[42, 4], y=[1])"
            ]
          },
          "metadata": {},
          "execution_count": 21
        }
      ]
    },
    {
      "cell_type": "code",
      "source": [
        "#How many nodes \n",
        "print(f'Number of nodes in the first graph: {dataset[0].x.shape[0]}')"
      ],
      "metadata": {
        "id": "r1gM_POfq4lv",
        "colab": {
          "base_uri": "https://localhost:8080/"
        },
        "outputId": "3b36568c-7d8e-45f8-85e3-9b8785979887"
      },
      "execution_count": null,
      "outputs": [
        {
          "output_type": "stream",
          "name": "stdout",
          "text": [
            "Number of nodes in the first graph: 42\n"
          ]
        }
      ]
    },
    {
      "cell_type": "code",
      "source": [
        "#How many edges\n",
        "print(f'Number of edges in the first graph: {dataset[0].edge_index.shape[1]}')"
      ],
      "metadata": {
        "id": "koisdbSPrXez",
        "colab": {
          "base_uri": "https://localhost:8080/"
        },
        "outputId": "45955a7c-3d73-4e65-c2e5-b77c288c89dd"
      },
      "execution_count": null,
      "outputs": [
        {
          "output_type": "stream",
          "name": "stdout",
          "text": [
            "Number of edges in the first graph: 162\n"
          ]
        }
      ]
    },
    {
      "cell_type": "code",
      "source": [
        "#What is its label\n",
        "\n",
        "print(f'Label of the first graph: {dataset[0].y.item()}')\n",
        "# Since the label is 0, the protein is an enzyme"
      ],
      "metadata": {
        "id": "G6VoihpWrP5c",
        "colab": {
          "base_uri": "https://localhost:8080/"
        },
        "outputId": "fa745050-879a-46fb-d50e-95f9744ff563"
      },
      "execution_count": null,
      "outputs": [
        {
          "output_type": "stream",
          "name": "stdout",
          "text": [
            "Label of the first graph: 0\n"
          ]
        }
      ]
    },
    {
      "cell_type": "code",
      "source": [
        "#How many features \n",
        "print(f'The number of features that each node has: {dataset[0].x.shape[1]}')"
      ],
      "metadata": {
        "id": "MTdEtnQorKC-",
        "colab": {
          "base_uri": "https://localhost:8080/"
        },
        "outputId": "91b1f77a-d4ac-4c20-c57f-452c0bd3a699"
      },
      "execution_count": null,
      "outputs": [
        {
          "output_type": "stream",
          "name": "stdout",
          "text": [
            "The number of features that each node has: 4\n"
          ]
        }
      ]
    },
    {
      "cell_type": "markdown",
      "metadata": {
        "id": "kHSklBZXpKpR"
      },
      "source": [
        "#### Question 12 (0.5 pt)\n",
        "\n",
        "To properly train and evaluate our model, we need training, validation, and test splits.\n",
        "\n",
        "For reproducibility purposes, we generate a random tensor of indices for you. Use it to extract the three splits from `dataset`.\n",
        "\n",
        "For training, take 80% of the indices (starting from the first element in `indices`), then the following 10% for validation, and the remaining 10% for testing. You can use the indices to index `dataset`.\n",
        "\n",
        "Call the resulting splits `train_dataset`, `valid_dataset`, and `test_dataset`."
      ]
    },
    {
      "cell_type": "code",
      "metadata": {
        "id": "ttY4d1GInn08"
      },
      "source": [
        "# Don't erase the following three lines\n",
        "import torch\n",
        "torch.random.manual_seed(0)\n",
        "indices = torch.randperm(len(dataset))\n",
        "\n",
        "# Your answer here\n",
        "splits = (int(len(dataset) * 0.8), int( len(dataset) * 0.9))\n",
        "\n",
        "train_dataset = dataset[indices[:splits[0]]]\n",
        "valid_dataset = dataset[indices[splits[0]:splits[1]]]\n",
        "test_dataset = dataset[indices[splits[1]:]]"
      ],
      "execution_count": null,
      "outputs": []
    },
    {
      "cell_type": "markdown",
      "source": [
        ""
      ],
      "metadata": {
        "id": "_tG4qlff0_Tt"
      }
    },
    {
      "cell_type": "markdown",
      "metadata": {
        "id": "rDJbB4CQqsfp"
      },
      "source": [
        "### Working with a batch of graphs\n",
        "\n",
        "When working with the Cora dataset, you used the information in `data.edge_index` to build the sparse normalized adjacency matrix $\\hat{A}$ that is required by the GCN. We could do something similar here: for each graph, we build $\\hat{A}$, and pass it to the GCN. However, if the number of graphs is big, this can really slow down training.\n",
        "\n",
        "To avoid this, we will resort to a very useful trick that also allows us to reuse the same GCN you implemented previously. The trick makes it possible to do a forward pass through the GCN for multiple, disconnected graphs at the same time (instead of only one), much like when you train with mini-batches for other kinds of data.\n",
        "\n",
        "Let's first revisit the propagation rule of the GCN, $Z = \\hat{A}XW$, with an illustration (we have omitted the cells of $X$ and $W$ for clarity):\n",
        "\n",
        "<img src=\"https://raw.githubusercontent.com/dfdazac/dlvu-a5/main/img/02-gcn-forward.png\">\n",
        "\n",
        "If we have multiple graphs, we can still use the same propagation rule, if we\n",
        "\n",
        "- Set $\\hat{A}$ to be a block diagonal matrix, where the blocks are the different adjacency matrices of the graphs\n",
        "- Concatenate the feature matrices along the first dimension\n",
        "\n",
        "This is illustrated in the following figure, for a batch of 3 graphs. Note that the elements outside of the blocks are zero.\n",
        "\n",
        "<img src=\"https://raw.githubusercontent.com/dfdazac/dlvu-a5/main/img/02-gcn-batch-forward.png\">\n",
        "\n",
        "The resulting adjacency matrix $\\hat{A}_B$ can also be built as a sparse matrix, and once we have it together with the concatenated matrix of features, the computation of the graph convolution is exactly the same as before. Note how this trick also allows us to process graphs with different sizes and structures.\n"
      ]
    },
    {
      "cell_type": "markdown",
      "metadata": {
        "id": "0DLPJ62b2mQ6"
      },
      "source": [
        "#### Question 13 (0.25 pt)\n",
        "\n",
        "\n",
        "Just as the citation network, the graphs in each of the datasets you created in Question 12 also have an `edge_index` attribute, which can be used to compute the normalized adjacency matrix $\\hat{A}$, for each graph.\n",
        "\n",
        "Reusing your code for Questions 3 and 5, define a function `get_a_norm()` that takes as input an element of a dataset (e.g. `train_dataset[0]`), and returns a `scipy.sparse` matrix containing $\\hat{A}$.\n",
        "\n",
        "Note that an element of a dataset has properties like `num_edges`, `num_nodes`, etc. which you can use here."
      ]
    },
    {
      "cell_type": "code",
      "metadata": {
        "id": "4nvPX2GB8oXp"
      },
      "source": [
        "# Your answer here\n",
        "def get_a_norm(graph):\n",
        "  n_edges = graph.num_edges\n",
        "  n_nodes = graph.num_nodes\n",
        "\n",
        "  data_edges = np.ones([n_edges], dtype=np.float32)\n",
        "\n",
        "  i, j = graph.edge_index[0,:], graph.edge_index[1,:]\n",
        "\n",
        "  shape = (n_nodes, n_nodes)\n",
        "  A = coo_matrix((data_edges, (i,j)), shape)\n",
        "\n",
        "  summed = A.sum(axis=0, dtype=np.float32)\n",
        "  D = diags(summed, [0,], shape=shape, format=\"coo\")\n",
        "\n",
        "  A_tilde = A + eye(m=A.shape[0], format=\"coo\", dtype=np.float32)\n",
        "  D_tilde = D + identity(n=A_tilde.shape[0], dtype=np.float32, format=\"coo\")\n",
        "  A_norm = ((D_tilde.power(-0.5)).dot(A_tilde)).dot((D_tilde.power(-0.5))).tocoo()\n",
        "  return A_norm\n"
      ],
      "execution_count": null,
      "outputs": []
    },
    {
      "cell_type": "code",
      "source": [
        "get_a_norm(dataset[0])"
      ],
      "metadata": {
        "id": "BdMCcrrJwMvu",
        "colab": {
          "base_uri": "https://localhost:8080/"
        },
        "outputId": "5b2b553b-962c-4630-9738-081a900b98e8"
      },
      "execution_count": null,
      "outputs": [
        {
          "output_type": "execute_result",
          "data": {
            "text/plain": [
              "<42x42 sparse matrix of type '<class 'numpy.float32'>'\n",
              "\twith 204 stored elements in COOrdinate format>"
            ]
          },
          "metadata": {},
          "execution_count": 28
        }
      ]
    },
    {
      "cell_type": "markdown",
      "metadata": {
        "id": "cBrmYBY3AfhW"
      },
      "source": [
        "#### Question 14 (1 pt)\n",
        "\n",
        "To prepare the batch of graphs, we need to collect multiple adjacency matrices, feature matrices, and labels.\n",
        "\n",
        "When using the trick described in the last figure, we see that we have to keep track of when a graph starts and when it ends, so that we can later differentiate the outputs due to $X^{(0)}$, $X^{(1)}$, etc. To achieve this, we will additionally collect a 1D array of batch indices, one for each $X^{(i)}$.\n",
        "\n",
        "The 1D array has as many elements as rows in $X^{(i)}$, and it is filled with the value $i$ (the position of $X^{(i)}$ in the batch):\n",
        "\n",
        "<img src=\"https://raw.githubusercontent.com/dfdazac/dlvu-a5/main/img/03-batch-indices.png\">\n",
        "\n",
        "We will later concatenate all the 1D arrays along the first dimension, just as we will do with all the $X^{(i)}$.\n",
        "\n",
        "Define a function `prepare_graphs_batch()` that takes as input a dataset (e.g. `train_dataset`), and does the following\n",
        "\n",
        "- Create four empty lists:\n",
        "  - `adj_matrices`\n",
        "  - `feature_matrices`\n",
        "  - `batch_indices`\n",
        "  - `labels`\n",
        "- Iterate over the input dataset, getting one graph at a time. At each step, use your function from Question 13 to append the adjacency matrix to `adj_matrices`, append the matrix of input features to `feature_matrices`, create the array of batch indices (as explained above) and append it to `batch_indices`, and append the label of the graph to `labels`. **Make sure to convert the label to float**.\n",
        "- Once the loop is over, use `scipy.sparse.block_diag()` to build the block diagonal matrix $\\hat{A}_B$. Convert it to the COO format, and then use your answer to Question 6 to turn it into a sparse PyTorch tensor.\n",
        "- Use `torch.cat()` to concatenate the tensors in `feature_matrices` along the first dimension. Do this also for `batch_indices` and `labels`.\n",
        "- Return the 4 tensors computed in the previous two items."
      ]
    },
    {
      "cell_type": "code",
      "metadata": {
        "id": "SsQ0-JjSqFgD"
      },
      "source": [
        "# Your answer here\n",
        "def prepare_graphs_batch(dataset):\n",
        "\n",
        "    adj_matrices = []\n",
        "    feature_matrices = []\n",
        "    batch_indices = []\n",
        "    labels = []\n",
        "    adj_matrices_coo = []\n",
        "\n",
        "    for i, graph in enumerate(dataset):\n",
        "      adj_matrices.append(get_a_norm(graph))\n",
        "      feature_matrices.append(graph.x)\n",
        "      batch_indices.append(torch.tensor(np.full(graph.num_nodes, i)))\n",
        "      labels.append(graph.y.type(torch.float32))\n",
        "      adj_matrices_coo.append(coo_matrix(get_a_norm(graph)))\n",
        "    \n",
        "    block_diag_matrix = block_diag(adj_matrices_coo)\n",
        "    values = block_diag_matrix.data\n",
        "    indices = np.vstack((block_diag_matrix.row, block_diag_matrix.col))\n",
        "    block_diag_matrix = torch.sparse_coo_tensor(indices, values)\n",
        "\n",
        "    feature_matrix = torch.cat(feature_matrices, dim=0)\n",
        "    label_matrix = torch.cat(labels, dim=0)\n",
        "    batch_indx_matrix = torch.cat(batch_indices,0)\n",
        "   \n",
        "    return block_diag_matrix, feature_matrix, label_matrix, batch_indx_matrix"
      ],
      "execution_count": null,
      "outputs": []
    },
    {
      "cell_type": "markdown",
      "metadata": {
        "id": "i73P_EU0MSPX"
      },
      "source": [
        "Once your answer for the previous question is ready, you can run the next cell to prepare all the required information, for the train, validation, and test splits."
      ]
    },
    {
      "cell_type": "code",
      "metadata": {
        "id": "Iol5FxJGMmAU"
      },
      "source": [
        "train_a_norm, train_features, train_labels, train_batch_idx,  = prepare_graphs_batch(train_dataset)\n",
        "valid_a_norm, valid_features, valid_labels, valid_batch_idx = prepare_graphs_batch(valid_dataset)\n",
        "test_a_norm, test_features, test_labels, test_batch_idx  = prepare_graphs_batch(test_dataset)"
      ],
      "execution_count": null,
      "outputs": []
    },
    {
      "cell_type": "markdown",
      "metadata": {
        "id": "R6q-JU87NClh"
      },
      "source": [
        "### GCNs for graph classification\n",
        "\n",
        "We now have all the ingredients to pass a batch of graphs to a GCN. However, for each graph in the batch, the output $Z^{(i)}$ contains one row for each node in the graph. If the goal is to do classification at the graph level, we have to *pool* these vectors to then compute the required logits for classification.\n",
        "\n",
        "This operation is similar as how pooling works in a CNN. We could consider taking the mean of the vectors, the sum, or use max-pooling. The difference with respect to CNNs is that in our case, we have a batch of graphs, each potentially with a different number of nodes.\n",
        "\n",
        "To implement this specific pooling, we can use the scatter operation in the `torch_scatter` library, which comes when installing PyG. We will use it, together with the tensor of batch indices from the previous two questions, to pool the outputs of the GCN for each graph, into a single vector:\n",
        "\n",
        "<img src=\"https://raw.githubusercontent.com/dfdazac/dlvu-a5/main/img/04-scatter.png\">\n",
        "\n",
        "You can check more details in the [documentation](https://pytorch-scatter.readthedocs.io/en/latest/functions/scatter.html)."
      ]
    },
    {
      "cell_type": "markdown",
      "metadata": {
        "id": "QY87DX1uRhnY"
      },
      "source": [
        "#### Question 16 (0.5 pt)\n",
        "\n",
        "Implement a `GraphClassifier` module using PyTorch.\n",
        "\n",
        "- The constructor should take as arguments the number of input features, the hidden dimension, and the number of classes.\n",
        "- The model should contain a instance of the `GCN` module (as you implemented it in Question 8). Use the same value for the hidden dimension and the number of output features (recall that your `GCN` module from Question 8 has two GCN layers).\n",
        "- The model should also contain a `torch.nn.Linear` layer, with the hidden dimension as the input features, and the number of classes as the output.\n",
        "- The forward method receives the concatenated matrix of features, the sparse block diagonal adjacency matrix, and the batch indices (the latter is used when calling `scatter`).\n",
        "- Use the following architecture in the forward pass:\n",
        "  - GCN $\\to$ ReLU $\\to$ scatter (max) $\\to$ Linear.\n",
        "\n",
        "The output of the forward should be a 1D tensor (you might need to call `squeeze` to get rid of extra dimensions) containing the logits for all graphs in the batch, for the binary classification task."
      ]
    },
    {
      "cell_type": "code",
      "metadata": {
        "id": "750WraywwYDH"
      },
      "source": [
        "# Your answer here\n",
        "class GraphClassifier(nn.Module):\n",
        "\n",
        "  def __init__(self, n_features, n_hidden, n_classes):\n",
        "    super(GraphClassifier, self).__init__()\n",
        "    self.GCN = GCN(n_features, n_hidden, n_hidden)\n",
        "    self.fc = nn.Linear(n_hidden, n_classes)\n",
        "\n",
        "  def forward(self, feature_matrix, block_diag_matrix, batch_indx_matrix):\n",
        "\n",
        "    X = nn.functional.relu(self.GCN(feature_matrix, block_diag_matrix))\n",
        "    X = torch_scatter.scatter(X, batch_indx_matrix, dim=0, reduce=\"max\")\n",
        "    X = self.fc(X)\n",
        "    return torch.squeeze(X)"
      ],
      "execution_count": null,
      "outputs": []
    },
    {
      "cell_type": "markdown",
      "metadata": {
        "id": "C1PHy-_vTjgh"
      },
      "source": [
        "#### Question 17 (1.5 pt)\n",
        "\n",
        "Implement a training loop for the graph classifier. Use the data from Question 15 to train and evaluate the model.\n",
        "\n",
        "We encourage you to use a GPU in this section for faster training. Note that if you change the runtime at this point, you must re-execute several of the cells above, including the ones that install PyG.\n",
        "\n",
        "- Instantiate a classifier with 32 as the hidden dimension\n",
        "- Use Adam with a learning rate of 1e-3.\n",
        "- Use `torch.nn.BCEWithLogitsLoss` as the loss function.\n",
        "- Train for 5,000 epochs. Once training is done, plot the loss curve and the accuracy in the validation set. Then report the accuracy in the test set.\n",
        "\n",
        "**Note:** the logits from the output of the classifier come from a linear layer. To compute actual predictions for the calculation of the accuracy, pass the logits through `torch.sigmoid()`, and set the predicted values to 1 whenever they are greater than 0.5, and to 0 otherwise.\n",
        "\n",
        "You should get an accuracy equal to or higher than 70% in the validation and test sets. Can you beat the [state-of-the-art](https://paperswithcode.com/sota/graph-classification-on-proteins)? Feel free to modify your architecture and experiment with it.\n",
        "\n",
        "Discuss what you observe during training and your results."
      ]
    },
    {
      "cell_type": "code",
      "metadata": {
        "id": "9DbGAs8W2Xja"
      },
      "source": [
        "# If your runtime is GPU-enabled, use .to(device) to move the model\n",
        "# and all the relevant tensors to the GPU. You have to move tensors back to CPU\n",
        "# when computing metrics like accuracy, using .cpu().\n",
        "device = torch.device('cuda') if torch.cuda.is_available() else 'cpu'\n",
        "\n",
        "# Your answer here\n",
        "\n",
        "def train_step(model, X, A, Y, batch_idx, criterion, optimizer):\n",
        "  optimizer.zero_grad()\n",
        "  out = model(X, A, batch_idx)\n",
        "  loss = criterion(out, Y)\n",
        "  loss.backward()\n",
        "  optimizer.step()\n",
        "  return loss.item()\n",
        "\n",
        "def validate(model, X, A, Y, batch_idx, criterion):\n",
        "  with torch.no_grad():\n",
        "    out = model(X, A, batch_idx)\n",
        "    out = torch.sigmoid(out)\n",
        "    pred = torch.where(out>=0.5, 1, 0)\n",
        "    acc = (pred==Y).sum()/len(pred)\n",
        "    return acc.item()"
      ],
      "execution_count": null,
      "outputs": []
    },
    {
      "cell_type": "code",
      "source": [
        "#Hyper - parameters\n",
        "EPOCHS = 5000\n",
        "LR = 1e-3\n",
        "STEPS = 1\n",
        "model = GraphClassifier(4, 32, 1).to(device)\n",
        "optimizer = optim.Adam(model.parameters(), LR)\n",
        "criterion = nn.BCEWithLogitsLoss()\n",
        "\n",
        "train_accs = []\n",
        "val_accs = []\n",
        "epoch_loss = []\n",
        "\n",
        "for epoch in range(1, EPOCHS+1):\n",
        "  \n",
        "  loss = train_step(model, train_features.to(device), train_a_norm.to(device), train_labels.to(device), train_batch_idx.to(device), criterion, optimizer)\n",
        "  train_acc = validate(model, train_features.to(device), train_a_norm.to(device), train_labels.to(device), train_batch_idx.to(device), criterion)\n",
        "  val_acc = validate(model, valid_features.to(device), valid_a_norm.to(device),  valid_labels.to(device), valid_batch_idx.to(device), criterion)\n",
        "  if epoch % 10 == 0 or epoch == 1:\n",
        "    print(f'Epoch:{epoch}, Loss:{loss}, val acc:{val_acc}, train acc:{train_acc}')\n",
        "  epoch_loss.append(loss)\n",
        "  train_accs.append(train_acc)\n",
        "  val_accs.append(val_acc)\n",
        "\n"
      ],
      "metadata": {
        "id": "osT8_JU69Jde",
        "colab": {
          "base_uri": "https://localhost:8080/"
        },
        "outputId": "9d571bc8-e53f-4edd-cde0-f237c14bd4b7"
      },
      "execution_count": null,
      "outputs": [
        {
          "output_type": "stream",
          "name": "stdout",
          "text": [
            "Epoch:1, Loss:2.8387105464935303, val acc:0.37837839126586914, train acc:0.40786516666412354\n",
            "Epoch:10, Loss:1.391356348991394, val acc:0.37837839126586914, train acc:0.40561798214912415\n",
            "Epoch:20, Loss:0.697432279586792, val acc:0.6216216087341309, train acc:0.5921348333358765\n",
            "Epoch:30, Loss:0.7899565100669861, val acc:0.6216216087341309, train acc:0.5921348333358765\n",
            "Epoch:40, Loss:0.6894680857658386, val acc:0.6216216087341309, train acc:0.5921348333358765\n",
            "Epoch:50, Loss:0.6996351480484009, val acc:0.5855855941772461, train acc:0.567415714263916\n",
            "Epoch:60, Loss:0.6830348372459412, val acc:0.6216216087341309, train acc:0.5921348333358765\n",
            "Epoch:70, Loss:0.681124210357666, val acc:0.6216216087341309, train acc:0.5921348333358765\n",
            "Epoch:80, Loss:0.6766748428344727, val acc:0.6216216087341309, train acc:0.5921348333358765\n",
            "Epoch:90, Loss:0.6735065579414368, val acc:0.6216216087341309, train acc:0.5921348333358765\n",
            "Epoch:100, Loss:0.6710582375526428, val acc:0.6216216087341309, train acc:0.5921348333358765\n",
            "Epoch:110, Loss:0.668816864490509, val acc:0.6216216087341309, train acc:0.5921348333358765\n",
            "Epoch:120, Loss:0.666784405708313, val acc:0.6216216087341309, train acc:0.5921348333358765\n",
            "Epoch:130, Loss:0.6647913455963135, val acc:0.6216216087341309, train acc:0.5921348333358765\n",
            "Epoch:140, Loss:0.6625581383705139, val acc:0.6216216087341309, train acc:0.5921348333358765\n",
            "Epoch:150, Loss:0.6597288250923157, val acc:0.6216216087341309, train acc:0.5921348333358765\n",
            "Epoch:160, Loss:0.6561400294303894, val acc:0.6486486792564392, train acc:0.6056180000305176\n",
            "Epoch:170, Loss:0.652392566204071, val acc:0.6756756901741028, train acc:0.6292135119438171\n",
            "Epoch:180, Loss:0.6507056355476379, val acc:0.6576576828956604, train acc:0.632584273815155\n",
            "Epoch:190, Loss:0.6488059163093567, val acc:0.6576576828956604, train acc:0.6415730118751526\n",
            "Epoch:200, Loss:0.6472793221473694, val acc:0.6486486792564392, train acc:0.6595505475997925\n",
            "Epoch:210, Loss:0.6458524465560913, val acc:0.639639675617218, train acc:0.6617977619171143\n",
            "Epoch:220, Loss:0.6445508599281311, val acc:0.639639675617218, train acc:0.6584270000457764\n",
            "Epoch:230, Loss:0.6433081030845642, val acc:0.639639675617218, train acc:0.6651685237884521\n",
            "Epoch:240, Loss:0.6421197652816772, val acc:0.6486486792564392, train acc:0.666292130947113\n",
            "Epoch:250, Loss:0.6409934163093567, val acc:0.6486486792564392, train acc:0.6719101071357727\n",
            "Epoch:260, Loss:0.639888346195221, val acc:0.6486486792564392, train acc:0.6719101071357727\n",
            "Epoch:270, Loss:0.6386831998825073, val acc:0.6486486792564392, train acc:0.6752809286117554\n",
            "Epoch:280, Loss:0.6373468041419983, val acc:0.6486486792564392, train acc:0.6752809286117554\n",
            "Epoch:290, Loss:0.6358954906463623, val acc:0.6486486792564392, train acc:0.6752809286117554\n",
            "Epoch:300, Loss:0.6344344019889832, val acc:0.639639675617218, train acc:0.6752809286117554\n",
            "Epoch:310, Loss:0.6330998539924622, val acc:0.6306306719779968, train acc:0.6752809286117554\n",
            "Epoch:320, Loss:0.6320474147796631, val acc:0.6306306719779968, train acc:0.6741573214530945\n",
            "Epoch:330, Loss:0.6309970617294312, val acc:0.6306306719779968, train acc:0.6752809286117554\n",
            "Epoch:340, Loss:0.6299357414245605, val acc:0.6306306719779968, train acc:0.6775280833244324\n",
            "Epoch:350, Loss:0.628865659236908, val acc:0.6306306719779968, train acc:0.6775280833244324\n",
            "Epoch:360, Loss:0.6277890801429749, val acc:0.6306306719779968, train acc:0.6797752976417542\n",
            "Epoch:370, Loss:0.6266580820083618, val acc:0.639639675617218, train acc:0.680898904800415\n",
            "Epoch:380, Loss:0.6255268454551697, val acc:0.639639675617218, train acc:0.6786516904830933\n",
            "Epoch:390, Loss:0.6243948936462402, val acc:0.6486486792564392, train acc:0.6797752976417542\n",
            "Epoch:400, Loss:0.6232101917266846, val acc:0.6486486792564392, train acc:0.6797752976417542\n",
            "Epoch:410, Loss:0.6219392418861389, val acc:0.6486486792564392, train acc:0.6797752976417542\n",
            "Epoch:420, Loss:0.6205829977989197, val acc:0.6486486792564392, train acc:0.6775280833244324\n",
            "Epoch:430, Loss:0.6189482808113098, val acc:0.6486486792564392, train acc:0.6786516904830933\n",
            "Epoch:440, Loss:0.6167172193527222, val acc:0.6486486792564392, train acc:0.680898904800415\n",
            "Epoch:450, Loss:0.6139501929283142, val acc:0.6666666865348816, train acc:0.6775280833244324\n",
            "Epoch:460, Loss:0.6113338470458984, val acc:0.6666666865348816, train acc:0.6820224523544312\n",
            "Epoch:470, Loss:0.6085078716278076, val acc:0.6666666865348816, train acc:0.6943820118904114\n",
            "Epoch:480, Loss:0.6055963635444641, val acc:0.6576576828956604, train acc:0.6943820118904114\n",
            "Epoch:490, Loss:0.6033661365509033, val acc:0.6576576828956604, train acc:0.6932584047317505\n",
            "Epoch:500, Loss:0.6012994647026062, val acc:0.6576576828956604, train acc:0.7022472023963928\n",
            "Epoch:510, Loss:0.5993137955665588, val acc:0.6576576828956604, train acc:0.699999988079071\n",
            "Epoch:520, Loss:0.5974632501602173, val acc:0.6666666865348816, train acc:0.699999988079071\n",
            "Epoch:530, Loss:0.595683217048645, val acc:0.6756756901741028, train acc:0.699999988079071\n",
            "Epoch:540, Loss:0.5938989520072937, val acc:0.6756756901741028, train acc:0.7011235952377319\n",
            "Epoch:550, Loss:0.5920544862747192, val acc:0.6756756901741028, train acc:0.7067415714263916\n",
            "Epoch:560, Loss:0.5902396440505981, val acc:0.6756756901741028, train acc:0.7089887857437134\n",
            "Epoch:570, Loss:0.588484525680542, val acc:0.6756756901741028, train acc:0.7112359404563904\n",
            "Epoch:580, Loss:0.5867637991905212, val acc:0.6666666865348816, train acc:0.7101123929023743\n",
            "Epoch:590, Loss:0.585090160369873, val acc:0.6756756901741028, train acc:0.7089887857437134\n",
            "Epoch:600, Loss:0.5834575295448303, val acc:0.6756756901741028, train acc:0.7123595476150513\n",
            "Epoch:610, Loss:0.5818727016448975, val acc:0.6756756901741028, train acc:0.7134831547737122\n",
            "Epoch:620, Loss:0.5803208947181702, val acc:0.6756756901741028, train acc:0.7123595476150513\n",
            "Epoch:630, Loss:0.578821063041687, val acc:0.684684693813324, train acc:0.7157303690910339\n",
            "Epoch:640, Loss:0.5773465633392334, val acc:0.684684693813324, train acc:0.71685391664505\n",
            "Epoch:650, Loss:0.5758598446846008, val acc:0.6936936974525452, train acc:0.71685391664505\n",
            "Epoch:660, Loss:0.5744259357452393, val acc:0.6936936974525452, train acc:0.7157303690910339\n",
            "Epoch:670, Loss:0.5730621218681335, val acc:0.6936936974525452, train acc:0.7157303690910339\n",
            "Epoch:680, Loss:0.5717648863792419, val acc:0.6936936974525452, train acc:0.7157303690910339\n",
            "Epoch:690, Loss:0.5704949498176575, val acc:0.6936936974525452, train acc:0.714606761932373\n",
            "Epoch:700, Loss:0.5692565441131592, val acc:0.7027027010917664, train acc:0.714606761932373\n",
            "Epoch:710, Loss:0.568047285079956, val acc:0.7027027010917664, train acc:0.714606761932373\n",
            "Epoch:720, Loss:0.566880464553833, val acc:0.7027027010917664, train acc:0.7157303690910339\n",
            "Epoch:730, Loss:0.5657492280006409, val acc:0.7117117047309875, train acc:0.71685391664505\n",
            "Epoch:740, Loss:0.5646553635597229, val acc:0.7207207679748535, train acc:0.7191011309623718\n",
            "Epoch:750, Loss:0.5636211037635803, val acc:0.7117117047309875, train acc:0.7179775238037109\n",
            "Epoch:760, Loss:0.5626089572906494, val acc:0.7117117047309875, train acc:0.7202247381210327\n",
            "Epoch:770, Loss:0.561627209186554, val acc:0.7117117047309875, train acc:0.7224718928337097\n",
            "Epoch:780, Loss:0.5606740117073059, val acc:0.7117117047309875, train acc:0.7247191071510315\n",
            "Epoch:790, Loss:0.5597383379936218, val acc:0.7207207679748535, train acc:0.7224718928337097\n",
            "Epoch:800, Loss:0.558833122253418, val acc:0.7207207679748535, train acc:0.7258427143096924\n",
            "Epoch:810, Loss:0.5579399466514587, val acc:0.7207207679748535, train acc:0.7292134761810303\n",
            "Epoch:820, Loss:0.5570555329322815, val acc:0.7207207679748535, train acc:0.7280898690223694\n",
            "Epoch:830, Loss:0.5561293363571167, val acc:0.7207207679748535, train acc:0.7303370833396912\n",
            "Epoch:840, Loss:0.5551716685295105, val acc:0.7207207679748535, train acc:0.7303370833396912\n",
            "Epoch:850, Loss:0.5543157458305359, val acc:0.7207207679748535, train acc:0.7303370833396912\n",
            "Epoch:860, Loss:0.5534372925758362, val acc:0.7207207679748535, train acc:0.7303370833396912\n",
            "Epoch:870, Loss:0.5525767803192139, val acc:0.7207207679748535, train acc:0.7269663214683533\n",
            "Epoch:880, Loss:0.5517127513885498, val acc:0.7207207679748535, train acc:0.7269663214683533\n",
            "Epoch:890, Loss:0.5508251190185547, val acc:0.7207207679748535, train acc:0.7280898690223694\n",
            "Epoch:900, Loss:0.5499502420425415, val acc:0.7207207679748535, train acc:0.7292134761810303\n",
            "Epoch:910, Loss:0.5490979552268982, val acc:0.7207207679748535, train acc:0.731460690498352\n",
            "Epoch:920, Loss:0.5482542514801025, val acc:0.7207207679748535, train acc:0.731460690498352\n",
            "Epoch:930, Loss:0.5473899841308594, val acc:0.7297297716140747, train acc:0.733707845211029\n",
            "Epoch:940, Loss:0.5465105772018433, val acc:0.7297297716140747, train acc:0.733707845211029\n",
            "Epoch:950, Loss:0.5456623435020447, val acc:0.7297297716140747, train acc:0.733707845211029\n",
            "Epoch:960, Loss:0.5448436737060547, val acc:0.7297297716140747, train acc:0.7348314523696899\n",
            "Epoch:970, Loss:0.5440086722373962, val acc:0.7297297716140747, train acc:0.7370786666870117\n",
            "Epoch:980, Loss:0.543165385723114, val acc:0.7207207679748535, train acc:0.7382022738456726\n",
            "Epoch:990, Loss:0.5423482656478882, val acc:0.7207207679748535, train acc:0.7382022738456726\n",
            "Epoch:1000, Loss:0.5415201783180237, val acc:0.7207207679748535, train acc:0.7382022738456726\n",
            "Epoch:1010, Loss:0.5407072305679321, val acc:0.7207207679748535, train acc:0.7404494285583496\n",
            "Epoch:1020, Loss:0.5398903489112854, val acc:0.7207207679748535, train acc:0.7393258213996887\n",
            "Epoch:1030, Loss:0.5390682220458984, val acc:0.7207207679748535, train acc:0.7415730357170105\n",
            "Epoch:1040, Loss:0.5382781028747559, val acc:0.7207207679748535, train acc:0.7404494285583496\n",
            "Epoch:1050, Loss:0.5375131964683533, val acc:0.7207207679748535, train acc:0.7415730357170105\n",
            "Epoch:1060, Loss:0.5367511510848999, val acc:0.7297297716140747, train acc:0.7415730357170105\n",
            "Epoch:1070, Loss:0.5359805822372437, val acc:0.7297297716140747, train acc:0.7438202500343323\n",
            "Epoch:1080, Loss:0.5352206230163574, val acc:0.7297297716140747, train acc:0.7449438571929932\n",
            "Epoch:1090, Loss:0.5344939231872559, val acc:0.7297297716140747, train acc:0.7449438571929932\n",
            "Epoch:1100, Loss:0.5337873697280884, val acc:0.7387387752532959, train acc:0.7449438571929932\n",
            "Epoch:1110, Loss:0.5330296158790588, val acc:0.7387387752532959, train acc:0.7471910119056702\n",
            "Epoch:1120, Loss:0.5322455763816833, val acc:0.7387387752532959, train acc:0.748314619064331\n",
            "Epoch:1130, Loss:0.531448483467102, val acc:0.7477477788925171, train acc:0.7505618333816528\n",
            "Epoch:1140, Loss:0.5306787490844727, val acc:0.7477477788925171, train acc:0.751685380935669\n",
            "Epoch:1150, Loss:0.5299298167228699, val acc:0.7567567825317383, train acc:0.751685380935669\n",
            "Epoch:1160, Loss:0.5292358994483948, val acc:0.7567567825317383, train acc:0.7528089880943298\n",
            "Epoch:1170, Loss:0.5285488963127136, val acc:0.7747747898101807, train acc:0.7539325952529907\n",
            "Epoch:1180, Loss:0.5278286933898926, val acc:0.7747747898101807, train acc:0.7539325952529907\n",
            "Epoch:1190, Loss:0.5271354913711548, val acc:0.7747747898101807, train acc:0.7550562024116516\n",
            "Epoch:1200, Loss:0.5264719724655151, val acc:0.7747747898101807, train acc:0.7573033571243286\n",
            "Epoch:1210, Loss:0.5258172750473022, val acc:0.7747747898101807, train acc:0.7584269642829895\n",
            "Epoch:1220, Loss:0.5251550674438477, val acc:0.7837837934494019, train acc:0.7617977857589722\n",
            "Epoch:1230, Loss:0.5245204567909241, val acc:0.7837837934494019, train acc:0.7606741786003113\n",
            "Epoch:1240, Loss:0.5239009857177734, val acc:0.7837837934494019, train acc:0.7606741786003113\n",
            "Epoch:1250, Loss:0.5232654809951782, val acc:0.7837837934494019, train acc:0.7617977857589722\n",
            "Epoch:1260, Loss:0.5226042866706848, val acc:0.7837837934494019, train acc:0.7606741786003113\n",
            "Epoch:1270, Loss:0.5219506621360779, val acc:0.7837837934494019, train acc:0.7606741786003113\n",
            "Epoch:1280, Loss:0.521334171295166, val acc:0.7837837934494019, train acc:0.7606741786003113\n",
            "Epoch:1290, Loss:0.520730197429657, val acc:0.7837837934494019, train acc:0.7617977857589722\n",
            "Epoch:1300, Loss:0.5201542377471924, val acc:0.7837837934494019, train acc:0.7640449404716492\n",
            "Epoch:1310, Loss:0.5195953845977783, val acc:0.8018018007278442, train acc:0.7640449404716492\n",
            "Epoch:1320, Loss:0.5190349817276001, val acc:0.792792797088623, train acc:0.7640449404716492\n",
            "Epoch:1330, Loss:0.5184609889984131, val acc:0.792792797088623, train acc:0.7640449404716492\n",
            "Epoch:1340, Loss:0.5178888440132141, val acc:0.792792797088623, train acc:0.766292154788971\n",
            "Epoch:1350, Loss:0.5173072218894958, val acc:0.8018018007278442, train acc:0.7674157619476318\n",
            "Epoch:1360, Loss:0.5167527198791504, val acc:0.8108108043670654, train acc:0.7674157619476318\n",
            "Epoch:1370, Loss:0.5162091851234436, val acc:0.8018018007278442, train acc:0.7696629166603088\n",
            "Epoch:1380, Loss:0.5156536102294922, val acc:0.8018018007278442, train acc:0.768539309501648\n",
            "Epoch:1390, Loss:0.5150862336158752, val acc:0.8018018007278442, train acc:0.768539309501648\n",
            "Epoch:1400, Loss:0.5145401358604431, val acc:0.8018018007278442, train acc:0.7696629166603088\n",
            "Epoch:1410, Loss:0.514011561870575, val acc:0.8018018007278442, train acc:0.7696629166603088\n",
            "Epoch:1420, Loss:0.5134917497634888, val acc:0.8018018007278442, train acc:0.7674157619476318\n",
            "Epoch:1430, Loss:0.5129830241203308, val acc:0.8018018007278442, train acc:0.7674157619476318\n",
            "Epoch:1440, Loss:0.5124807357788086, val acc:0.8018018007278442, train acc:0.766292154788971\n",
            "Epoch:1450, Loss:0.5119688510894775, val acc:0.8018018007278442, train acc:0.766292154788971\n",
            "Epoch:1460, Loss:0.5114636421203613, val acc:0.8018018007278442, train acc:0.766292154788971\n",
            "Epoch:1470, Loss:0.5109612345695496, val acc:0.8018018007278442, train acc:0.7674157619476318\n",
            "Epoch:1480, Loss:0.5104591250419617, val acc:0.8018018007278442, train acc:0.7674157619476318\n",
            "Epoch:1490, Loss:0.5099494457244873, val acc:0.8018018007278442, train acc:0.7696629166603088\n",
            "Epoch:1500, Loss:0.5094473361968994, val acc:0.8018018007278442, train acc:0.7696629166603088\n",
            "Epoch:1510, Loss:0.508952796459198, val acc:0.8018018007278442, train acc:0.7696629166603088\n",
            "Epoch:1520, Loss:0.5084729194641113, val acc:0.8108108043670654, train acc:0.7696629166603088\n",
            "Epoch:1530, Loss:0.5079991817474365, val acc:0.8108108043670654, train acc:0.7707865238189697\n",
            "Epoch:1540, Loss:0.5075501799583435, val acc:0.8108108043670654, train acc:0.7707865238189697\n",
            "Epoch:1550, Loss:0.5070968270301819, val acc:0.8108108043670654, train acc:0.7730337381362915\n",
            "Epoch:1560, Loss:0.5066351890563965, val acc:0.8108108043670654, train acc:0.7707865238189697\n",
            "Epoch:1570, Loss:0.5061753988265991, val acc:0.8108108043670654, train acc:0.7696629166603088\n",
            "Epoch:1580, Loss:0.5057250261306763, val acc:0.8108108043670654, train acc:0.768539309501648\n",
            "Epoch:1590, Loss:0.5052819848060608, val acc:0.8108108043670654, train acc:0.768539309501648\n",
            "Epoch:1600, Loss:0.5048264265060425, val acc:0.8108108043670654, train acc:0.768539309501648\n",
            "Epoch:1610, Loss:0.504360556602478, val acc:0.8108108043670654, train acc:0.768539309501648\n",
            "Epoch:1620, Loss:0.5035020709037781, val acc:0.8198198676109314, train acc:0.768539309501648\n",
            "Epoch:1630, Loss:0.5025560855865479, val acc:0.8108108043670654, train acc:0.766292154788971\n",
            "Epoch:1640, Loss:0.501547634601593, val acc:0.8198198676109314, train acc:0.7651685476303101\n",
            "Epoch:1650, Loss:0.5005782842636108, val acc:0.8108108043670654, train acc:0.7617977857589722\n",
            "Epoch:1660, Loss:0.4996456801891327, val acc:0.8108108043670654, train acc:0.7651685476303101\n",
            "Epoch:1670, Loss:0.49878019094467163, val acc:0.8108108043670654, train acc:0.7629213333129883\n",
            "Epoch:1680, Loss:0.497954785823822, val acc:0.8108108043670654, train acc:0.7584269642829895\n",
            "Epoch:1690, Loss:0.49723607301712036, val acc:0.8108108043670654, train acc:0.7595505714416504\n",
            "Epoch:1700, Loss:0.49656495451927185, val acc:0.8108108043670654, train acc:0.7606741786003113\n",
            "Epoch:1710, Loss:0.4959816336631775, val acc:0.8108108043670654, train acc:0.7606741786003113\n",
            "Epoch:1720, Loss:0.49532967805862427, val acc:0.8198198676109314, train acc:0.7584269642829895\n",
            "Epoch:1730, Loss:0.49474114179611206, val acc:0.8198198676109314, train acc:0.7617977857589722\n",
            "Epoch:1740, Loss:0.4942191541194916, val acc:0.8198198676109314, train acc:0.7617977857589722\n",
            "Epoch:1750, Loss:0.4937412738800049, val acc:0.8108108043670654, train acc:0.7584269642829895\n",
            "Epoch:1760, Loss:0.49329978227615356, val acc:0.8108108043670654, train acc:0.7595505714416504\n",
            "Epoch:1770, Loss:0.4928971529006958, val acc:0.8108108043670654, train acc:0.7606741786003113\n",
            "Epoch:1780, Loss:0.49251043796539307, val acc:0.8108108043670654, train acc:0.7617977857589722\n",
            "Epoch:1790, Loss:0.4921385943889618, val acc:0.8108108043670654, train acc:0.7640449404716492\n",
            "Epoch:1800, Loss:0.4917769134044647, val acc:0.8108108043670654, train acc:0.7651685476303101\n",
            "Epoch:1810, Loss:0.491421103477478, val acc:0.8108108043670654, train acc:0.7651685476303101\n",
            "Epoch:1820, Loss:0.49103978276252747, val acc:0.8108108043670654, train acc:0.7640449404716492\n",
            "Epoch:1830, Loss:0.49063998460769653, val acc:0.8108108043670654, train acc:0.7640449404716492\n",
            "Epoch:1840, Loss:0.49023956060409546, val acc:0.8108108043670654, train acc:0.7640449404716492\n",
            "Epoch:1850, Loss:0.4898919463157654, val acc:0.8108108043670654, train acc:0.7640449404716492\n",
            "Epoch:1860, Loss:0.4895619750022888, val acc:0.8108108043670654, train acc:0.7651685476303101\n",
            "Epoch:1870, Loss:0.48924824595451355, val acc:0.8108108043670654, train acc:0.7640449404716492\n",
            "Epoch:1880, Loss:0.4889462888240814, val acc:0.8108108043670654, train acc:0.7640449404716492\n",
            "Epoch:1890, Loss:0.48865577578544617, val acc:0.8108108043670654, train acc:0.7651685476303101\n",
            "Epoch:1900, Loss:0.4883706569671631, val acc:0.8108108043670654, train acc:0.766292154788971\n",
            "Epoch:1910, Loss:0.48809781670570374, val acc:0.8108108043670654, train acc:0.766292154788971\n",
            "Epoch:1920, Loss:0.48783206939697266, val acc:0.8108108043670654, train acc:0.766292154788971\n",
            "Epoch:1930, Loss:0.48757439851760864, val acc:0.8108108043670654, train acc:0.7651685476303101\n",
            "Epoch:1940, Loss:0.48733410239219666, val acc:0.8108108043670654, train acc:0.7651685476303101\n",
            "Epoch:1950, Loss:0.48709985613822937, val acc:0.8108108043670654, train acc:0.7651685476303101\n",
            "Epoch:1960, Loss:0.4868747591972351, val acc:0.8108108043670654, train acc:0.7651685476303101\n",
            "Epoch:1970, Loss:0.486659437417984, val acc:0.8108108043670654, train acc:0.766292154788971\n",
            "Epoch:1980, Loss:0.4864448606967926, val acc:0.8108108043670654, train acc:0.766292154788971\n",
            "Epoch:1990, Loss:0.4862439036369324, val acc:0.8108108043670654, train acc:0.766292154788971\n",
            "Epoch:2000, Loss:0.48602399230003357, val acc:0.8108108043670654, train acc:0.766292154788971\n",
            "Epoch:2010, Loss:0.4857787489891052, val acc:0.8108108043670654, train acc:0.7674157619476318\n",
            "Epoch:2020, Loss:0.4855550527572632, val acc:0.8108108043670654, train acc:0.766292154788971\n",
            "Epoch:2030, Loss:0.48533210158348083, val acc:0.8108108043670654, train acc:0.7674157619476318\n",
            "Epoch:2040, Loss:0.48511606454849243, val acc:0.8108108043670654, train acc:0.7674157619476318\n",
            "Epoch:2050, Loss:0.4846712350845337, val acc:0.8018018007278442, train acc:0.766292154788971\n",
            "Epoch:2060, Loss:0.4842292368412018, val acc:0.8018018007278442, train acc:0.768539309501648\n",
            "Epoch:2070, Loss:0.4838031232357025, val acc:0.8018018007278442, train acc:0.7707865238189697\n",
            "Epoch:2080, Loss:0.48342058062553406, val acc:0.8018018007278442, train acc:0.7696629166603088\n",
            "Epoch:2090, Loss:0.4830128252506256, val acc:0.8018018007278442, train acc:0.7674157619476318\n",
            "Epoch:2100, Loss:0.48263517022132874, val acc:0.8018018007278442, train acc:0.768539309501648\n",
            "Epoch:2110, Loss:0.4822651147842407, val acc:0.8018018007278442, train acc:0.768539309501648\n",
            "Epoch:2120, Loss:0.4819049537181854, val acc:0.8018018007278442, train acc:0.7696629166603088\n",
            "Epoch:2130, Loss:0.4815671443939209, val acc:0.8018018007278442, train acc:0.7674157619476318\n",
            "Epoch:2140, Loss:0.481231689453125, val acc:0.8018018007278442, train acc:0.7696629166603088\n",
            "Epoch:2150, Loss:0.4808467626571655, val acc:0.8018018007278442, train acc:0.7696629166603088\n",
            "Epoch:2160, Loss:0.4804961085319519, val acc:0.8018018007278442, train acc:0.7696629166603088\n",
            "Epoch:2170, Loss:0.4801614582538605, val acc:0.8018018007278442, train acc:0.768539309501648\n",
            "Epoch:2180, Loss:0.47980350255966187, val acc:0.8018018007278442, train acc:0.768539309501648\n",
            "Epoch:2190, Loss:0.4794844388961792, val acc:0.8018018007278442, train acc:0.7696629166603088\n",
            "Epoch:2200, Loss:0.4791773557662964, val acc:0.8108108043670654, train acc:0.7719101309776306\n",
            "Epoch:2210, Loss:0.4788769781589508, val acc:0.8108108043670654, train acc:0.7696629166603088\n",
            "Epoch:2220, Loss:0.4785780906677246, val acc:0.8108108043670654, train acc:0.7707865238189697\n",
            "Epoch:2230, Loss:0.47826480865478516, val acc:0.8108108043670654, train acc:0.7730337381362915\n",
            "Epoch:2240, Loss:0.4779917597770691, val acc:0.8108108043670654, train acc:0.7730337381362915\n",
            "Epoch:2250, Loss:0.47774308919906616, val acc:0.8108108043670654, train acc:0.7707865238189697\n",
            "Epoch:2260, Loss:0.4775020480155945, val acc:0.8108108043670654, train acc:0.7707865238189697\n",
            "Epoch:2270, Loss:0.47731536626815796, val acc:0.8108108043670654, train acc:0.7696629166603088\n",
            "Epoch:2280, Loss:0.47709575295448303, val acc:0.8108108043670654, train acc:0.766292154788971\n",
            "Epoch:2290, Loss:0.47693154215812683, val acc:0.8108108043670654, train acc:0.766292154788971\n",
            "Epoch:2300, Loss:0.47673243284225464, val acc:0.8108108043670654, train acc:0.768539309501648\n",
            "Epoch:2310, Loss:0.4765501618385315, val acc:0.8108108043670654, train acc:0.768539309501648\n",
            "Epoch:2320, Loss:0.47637152671813965, val acc:0.8108108043670654, train acc:0.768539309501648\n",
            "Epoch:2330, Loss:0.4761979877948761, val acc:0.8108108043670654, train acc:0.768539309501648\n",
            "Epoch:2340, Loss:0.47602778673171997, val acc:0.8108108043670654, train acc:0.7674157619476318\n",
            "Epoch:2350, Loss:0.47585561871528625, val acc:0.8018018007278442, train acc:0.768539309501648\n",
            "Epoch:2360, Loss:0.47565895318984985, val acc:0.8108108043670654, train acc:0.7707865238189697\n",
            "Epoch:2370, Loss:0.47543883323669434, val acc:0.8018018007278442, train acc:0.768539309501648\n",
            "Epoch:2380, Loss:0.4752340316772461, val acc:0.8018018007278442, train acc:0.768539309501648\n",
            "Epoch:2390, Loss:0.4750056266784668, val acc:0.8018018007278442, train acc:0.7696629166603088\n",
            "Epoch:2400, Loss:0.474822074174881, val acc:0.8018018007278442, train acc:0.7696629166603088\n",
            "Epoch:2410, Loss:0.47464990615844727, val acc:0.8108108043670654, train acc:0.768539309501648\n",
            "Epoch:2420, Loss:0.47451353073120117, val acc:0.8018018007278442, train acc:0.7674157619476318\n",
            "Epoch:2430, Loss:0.4743000864982605, val acc:0.8018018007278442, train acc:0.7651685476303101\n",
            "Epoch:2440, Loss:0.4741533398628235, val acc:0.8018018007278442, train acc:0.7674157619476318\n",
            "Epoch:2450, Loss:0.47399428486824036, val acc:0.8108108043670654, train acc:0.768539309501648\n",
            "Epoch:2460, Loss:0.47384554147720337, val acc:0.8018018007278442, train acc:0.766292154788971\n",
            "Epoch:2470, Loss:0.47371143102645874, val acc:0.8108108043670654, train acc:0.766292154788971\n",
            "Epoch:2480, Loss:0.4735727906227112, val acc:0.8108108043670654, train acc:0.766292154788971\n",
            "Epoch:2490, Loss:0.47343936562538147, val acc:0.8108108043670654, train acc:0.766292154788971\n",
            "Epoch:2500, Loss:0.4732951819896698, val acc:0.8108108043670654, train acc:0.766292154788971\n",
            "Epoch:2510, Loss:0.47315269708633423, val acc:0.8108108043670654, train acc:0.7651685476303101\n",
            "Epoch:2520, Loss:0.47301915287971497, val acc:0.8108108043670654, train acc:0.7640449404716492\n",
            "Epoch:2530, Loss:0.4728982150554657, val acc:0.8108108043670654, train acc:0.768539309501648\n",
            "Epoch:2540, Loss:0.47276270389556885, val acc:0.8198198676109314, train acc:0.768539309501648\n",
            "Epoch:2550, Loss:0.4726605713367462, val acc:0.8198198676109314, train acc:0.768539309501648\n",
            "Epoch:2560, Loss:0.472523033618927, val acc:0.8108108043670654, train acc:0.7651685476303101\n",
            "Epoch:2570, Loss:0.47239992022514343, val acc:0.8108108043670654, train acc:0.7640449404716492\n",
            "Epoch:2580, Loss:0.47230201959609985, val acc:0.8108108043670654, train acc:0.7640449404716492\n",
            "Epoch:2590, Loss:0.4721706807613373, val acc:0.8198198676109314, train acc:0.766292154788971\n",
            "Epoch:2600, Loss:0.4720595180988312, val acc:0.8198198676109314, train acc:0.7640449404716492\n",
            "Epoch:2610, Loss:0.47195786237716675, val acc:0.8108108043670654, train acc:0.7629213333129883\n",
            "Epoch:2620, Loss:0.4718417525291443, val acc:0.8108108043670654, train acc:0.7629213333129883\n",
            "Epoch:2630, Loss:0.471706748008728, val acc:0.8198198676109314, train acc:0.7629213333129883\n",
            "Epoch:2640, Loss:0.4715912342071533, val acc:0.8198198676109314, train acc:0.7640449404716492\n",
            "Epoch:2650, Loss:0.471495121717453, val acc:0.8198198676109314, train acc:0.7651685476303101\n",
            "Epoch:2660, Loss:0.4714019000530243, val acc:0.8198198676109314, train acc:0.7651685476303101\n",
            "Epoch:2670, Loss:0.4712851941585541, val acc:0.8198198676109314, train acc:0.7651685476303101\n",
            "Epoch:2680, Loss:0.47116535902023315, val acc:0.8198198676109314, train acc:0.7651685476303101\n",
            "Epoch:2690, Loss:0.4710519313812256, val acc:0.8198198676109314, train acc:0.7651685476303101\n",
            "Epoch:2700, Loss:0.47093236446380615, val acc:0.8198198676109314, train acc:0.766292154788971\n",
            "Epoch:2710, Loss:0.4708362817764282, val acc:0.8198198676109314, train acc:0.7651685476303101\n",
            "Epoch:2720, Loss:0.4707227349281311, val acc:0.8198198676109314, train acc:0.7651685476303101\n",
            "Epoch:2730, Loss:0.4706527292728424, val acc:0.8198198676109314, train acc:0.7651685476303101\n",
            "Epoch:2740, Loss:0.47054579854011536, val acc:0.8198198676109314, train acc:0.766292154788971\n",
            "Epoch:2750, Loss:0.47044965624809265, val acc:0.8198198676109314, train acc:0.7640449404716492\n",
            "Epoch:2760, Loss:0.47035205364227295, val acc:0.8198198676109314, train acc:0.7651685476303101\n",
            "Epoch:2770, Loss:0.4702392518520355, val acc:0.8198198676109314, train acc:0.7651685476303101\n",
            "Epoch:2780, Loss:0.4701322317123413, val acc:0.8198198676109314, train acc:0.7651685476303101\n",
            "Epoch:2790, Loss:0.47002753615379333, val acc:0.8198198676109314, train acc:0.7651685476303101\n",
            "Epoch:2800, Loss:0.4699518382549286, val acc:0.8198198676109314, train acc:0.7640449404716492\n",
            "Epoch:2810, Loss:0.46983546018600464, val acc:0.8198198676109314, train acc:0.7651685476303101\n",
            "Epoch:2820, Loss:0.4697190821170807, val acc:0.8108108043670654, train acc:0.7651685476303101\n",
            "Epoch:2830, Loss:0.46958208084106445, val acc:0.8108108043670654, train acc:0.766292154788971\n",
            "Epoch:2840, Loss:0.4694334864616394, val acc:0.8108108043670654, train acc:0.766292154788971\n",
            "Epoch:2850, Loss:0.46933266520500183, val acc:0.8108108043670654, train acc:0.766292154788971\n",
            "Epoch:2860, Loss:0.4692298173904419, val acc:0.8198198676109314, train acc:0.7674157619476318\n",
            "Epoch:2870, Loss:0.46913859248161316, val acc:0.8108108043670654, train acc:0.766292154788971\n",
            "Epoch:2880, Loss:0.4690699577331543, val acc:0.8198198676109314, train acc:0.766292154788971\n",
            "Epoch:2890, Loss:0.4689751863479614, val acc:0.8198198676109314, train acc:0.7651685476303101\n",
            "Epoch:2900, Loss:0.4688364863395691, val acc:0.8198198676109314, train acc:0.7674157619476318\n",
            "Epoch:2910, Loss:0.46874698996543884, val acc:0.8198198676109314, train acc:0.7674157619476318\n",
            "Epoch:2920, Loss:0.4686874747276306, val acc:0.8198198676109314, train acc:0.766292154788971\n",
            "Epoch:2930, Loss:0.4685996174812317, val acc:0.8198198676109314, train acc:0.7674157619476318\n",
            "Epoch:2940, Loss:0.468503475189209, val acc:0.8198198676109314, train acc:0.7651685476303101\n",
            "Epoch:2950, Loss:0.4684073030948639, val acc:0.8198198676109314, train acc:0.766292154788971\n",
            "Epoch:2960, Loss:0.4683293402194977, val acc:0.8198198676109314, train acc:0.7674157619476318\n",
            "Epoch:2970, Loss:0.468232125043869, val acc:0.8198198676109314, train acc:0.7696629166603088\n",
            "Epoch:2980, Loss:0.46814441680908203, val acc:0.8198198676109314, train acc:0.7696629166603088\n",
            "Epoch:2990, Loss:0.4680960476398468, val acc:0.8198198676109314, train acc:0.7674157619476318\n",
            "Epoch:3000, Loss:0.46804124116897583, val acc:0.8108108043670654, train acc:0.7674157619476318\n",
            "Epoch:3010, Loss:0.46794021129608154, val acc:0.8198198676109314, train acc:0.7674157619476318\n",
            "Epoch:3020, Loss:0.4678468108177185, val acc:0.8198198676109314, train acc:0.7674157619476318\n",
            "Epoch:3030, Loss:0.4677824378013611, val acc:0.8198198676109314, train acc:0.768539309501648\n",
            "Epoch:3040, Loss:0.4677462577819824, val acc:0.8198198676109314, train acc:0.7674157619476318\n",
            "Epoch:3050, Loss:0.4677310287952423, val acc:0.8018018007278442, train acc:0.7696629166603088\n",
            "Epoch:3060, Loss:0.46767014265060425, val acc:0.8198198676109314, train acc:0.768539309501648\n",
            "Epoch:3070, Loss:0.4675372838973999, val acc:0.8198198676109314, train acc:0.768539309501648\n",
            "Epoch:3080, Loss:0.46746525168418884, val acc:0.8198198676109314, train acc:0.768539309501648\n",
            "Epoch:3090, Loss:0.46741750836372375, val acc:0.8198198676109314, train acc:0.7674157619476318\n",
            "Epoch:3100, Loss:0.4673207104206085, val acc:0.8198198676109314, train acc:0.7674157619476318\n",
            "Epoch:3110, Loss:0.4672577381134033, val acc:0.8198198676109314, train acc:0.768539309501648\n",
            "Epoch:3120, Loss:0.46720877289772034, val acc:0.8198198676109314, train acc:0.7674157619476318\n",
            "Epoch:3130, Loss:0.4671247899532318, val acc:0.8198198676109314, train acc:0.7696629166603088\n",
            "Epoch:3140, Loss:0.46707606315612793, val acc:0.8198198676109314, train acc:0.766292154788971\n",
            "Epoch:3150, Loss:0.4670536518096924, val acc:0.8018018007278442, train acc:0.7696629166603088\n",
            "Epoch:3160, Loss:0.46693286299705505, val acc:0.8108108043670654, train acc:0.7707865238189697\n",
            "Epoch:3170, Loss:0.46688422560691833, val acc:0.8198198676109314, train acc:0.7696629166603088\n",
            "Epoch:3180, Loss:0.4668083190917969, val acc:0.8108108043670654, train acc:0.768539309501648\n",
            "Epoch:3190, Loss:0.4667412042617798, val acc:0.8108108043670654, train acc:0.7696629166603088\n",
            "Epoch:3200, Loss:0.46670451760292053, val acc:0.8198198676109314, train acc:0.768539309501648\n",
            "Epoch:3210, Loss:0.466621458530426, val acc:0.8198198676109314, train acc:0.7696629166603088\n",
            "Epoch:3220, Loss:0.4665348529815674, val acc:0.8108108043670654, train acc:0.7696629166603088\n",
            "Epoch:3230, Loss:0.46643880009651184, val acc:0.8108108043670654, train acc:0.768539309501648\n",
            "Epoch:3240, Loss:0.4663693308830261, val acc:0.8108108043670654, train acc:0.7674157619476318\n",
            "Epoch:3250, Loss:0.4662875831127167, val acc:0.8108108043670654, train acc:0.766292154788971\n",
            "Epoch:3260, Loss:0.4662226736545563, val acc:0.8108108043670654, train acc:0.766292154788971\n",
            "Epoch:3270, Loss:0.46615174412727356, val acc:0.8108108043670654, train acc:0.768539309501648\n",
            "Epoch:3280, Loss:0.46609216928482056, val acc:0.8108108043670654, train acc:0.768539309501648\n",
            "Epoch:3290, Loss:0.46603456139564514, val acc:0.8108108043670654, train acc:0.7651685476303101\n",
            "Epoch:3300, Loss:0.465968519449234, val acc:0.8108108043670654, train acc:0.766292154788971\n",
            "Epoch:3310, Loss:0.4659024178981781, val acc:0.8108108043670654, train acc:0.7696629166603088\n",
            "Epoch:3320, Loss:0.46585461497306824, val acc:0.8108108043670654, train acc:0.7696629166603088\n",
            "Epoch:3330, Loss:0.46578872203826904, val acc:0.8108108043670654, train acc:0.766292154788971\n",
            "Epoch:3340, Loss:0.46572214365005493, val acc:0.8108108043670654, train acc:0.768539309501648\n",
            "Epoch:3350, Loss:0.46566319465637207, val acc:0.8108108043670654, train acc:0.768539309501648\n",
            "Epoch:3360, Loss:0.4655993580818176, val acc:0.8108108043670654, train acc:0.766292154788971\n",
            "Epoch:3370, Loss:0.4655482769012451, val acc:0.8108108043670654, train acc:0.7651685476303101\n",
            "Epoch:3380, Loss:0.46549147367477417, val acc:0.8198198676109314, train acc:0.7696629166603088\n",
            "Epoch:3390, Loss:0.4654172658920288, val acc:0.8108108043670654, train acc:0.766292154788971\n",
            "Epoch:3400, Loss:0.46536359190940857, val acc:0.8108108043670654, train acc:0.768539309501648\n",
            "Epoch:3410, Loss:0.46528172492980957, val acc:0.8108108043670654, train acc:0.768539309501648\n",
            "Epoch:3420, Loss:0.46521657705307007, val acc:0.8108108043670654, train acc:0.766292154788971\n",
            "Epoch:3430, Loss:0.4651290774345398, val acc:0.8108108043670654, train acc:0.766292154788971\n",
            "Epoch:3440, Loss:0.46505701541900635, val acc:0.8108108043670654, train acc:0.7674157619476318\n",
            "Epoch:3450, Loss:0.4649686813354492, val acc:0.8108108043670654, train acc:0.766292154788971\n",
            "Epoch:3460, Loss:0.46491682529449463, val acc:0.8108108043670654, train acc:0.766292154788971\n",
            "Epoch:3470, Loss:0.4648324251174927, val acc:0.8108108043670654, train acc:0.766292154788971\n",
            "Epoch:3480, Loss:0.4647477865219116, val acc:0.8108108043670654, train acc:0.7674157619476318\n",
            "Epoch:3490, Loss:0.46467000246047974, val acc:0.8108108043670654, train acc:0.766292154788971\n",
            "Epoch:3500, Loss:0.46460115909576416, val acc:0.8108108043670654, train acc:0.766292154788971\n",
            "Epoch:3510, Loss:0.46458756923675537, val acc:0.8198198676109314, train acc:0.766292154788971\n",
            "Epoch:3520, Loss:0.4645198583602905, val acc:0.8108108043670654, train acc:0.7696629166603088\n",
            "Epoch:3530, Loss:0.4644777476787567, val acc:0.8198198676109314, train acc:0.766292154788971\n",
            "Epoch:3540, Loss:0.4643467664718628, val acc:0.8108108043670654, train acc:0.7651685476303101\n",
            "Epoch:3550, Loss:0.4642780125141144, val acc:0.8108108043670654, train acc:0.7674157619476318\n",
            "Epoch:3560, Loss:0.4642070233821869, val acc:0.8108108043670654, train acc:0.768539309501648\n",
            "Epoch:3570, Loss:0.4641207754611969, val acc:0.8108108043670654, train acc:0.7674157619476318\n",
            "Epoch:3580, Loss:0.46401429176330566, val acc:0.8108108043670654, train acc:0.768539309501648\n",
            "Epoch:3590, Loss:0.46392494440078735, val acc:0.8108108043670654, train acc:0.768539309501648\n",
            "Epoch:3600, Loss:0.46384188532829285, val acc:0.8108108043670654, train acc:0.7674157619476318\n",
            "Epoch:3610, Loss:0.46375808119773865, val acc:0.8108108043670654, train acc:0.768539309501648\n",
            "Epoch:3620, Loss:0.4637458324432373, val acc:0.8198198676109314, train acc:0.768539309501648\n",
            "Epoch:3630, Loss:0.46365150809288025, val acc:0.8108108043670654, train acc:0.7707865238189697\n",
            "Epoch:3640, Loss:0.4635537564754486, val acc:0.8108108043670654, train acc:0.7696629166603088\n",
            "Epoch:3650, Loss:0.4635011851787567, val acc:0.8108108043670654, train acc:0.7696629166603088\n",
            "Epoch:3660, Loss:0.4633980393409729, val acc:0.8108108043670654, train acc:0.7674157619476318\n",
            "Epoch:3670, Loss:0.4634043574333191, val acc:0.8198198676109314, train acc:0.766292154788971\n",
            "Epoch:3680, Loss:0.4632898271083832, val acc:0.8108108043670654, train acc:0.7696629166603088\n",
            "Epoch:3690, Loss:0.46314436197280884, val acc:0.8198198676109314, train acc:0.7696629166603088\n",
            "Epoch:3700, Loss:0.4629935622215271, val acc:0.8108108043670654, train acc:0.7696629166603088\n",
            "Epoch:3710, Loss:0.46268168091773987, val acc:0.8198198676109314, train acc:0.7696629166603088\n",
            "Epoch:3720, Loss:0.46230947971343994, val acc:0.8198198676109314, train acc:0.7719101309776306\n",
            "Epoch:3730, Loss:0.461749404668808, val acc:0.8198198676109314, train acc:0.7764045000076294\n",
            "Epoch:3740, Loss:0.46110665798187256, val acc:0.8108108043670654, train acc:0.7719101309776306\n",
            "Epoch:3750, Loss:0.46107161045074463, val acc:0.8108108043670654, train acc:0.7741572856903076\n",
            "Epoch:3760, Loss:0.46063053607940674, val acc:0.8288288712501526, train acc:0.768539309501648\n",
            "Epoch:3770, Loss:0.4603399336338043, val acc:0.8288288712501526, train acc:0.768539309501648\n",
            "Epoch:3780, Loss:0.4602121412754059, val acc:0.8198198676109314, train acc:0.7741572856903076\n",
            "Epoch:3790, Loss:0.46006548404693604, val acc:0.8198198676109314, train acc:0.7696629166603088\n",
            "Epoch:3800, Loss:0.4599195420742035, val acc:0.8198198676109314, train acc:0.7719101309776306\n",
            "Epoch:3810, Loss:0.4598146080970764, val acc:0.8198198676109314, train acc:0.7730337381362915\n",
            "Epoch:3820, Loss:0.45970088243484497, val acc:0.8198198676109314, train acc:0.7707865238189697\n",
            "Epoch:3830, Loss:0.4595939815044403, val acc:0.8288288712501526, train acc:0.7707865238189697\n",
            "Epoch:3840, Loss:0.459647536277771, val acc:0.8198198676109314, train acc:0.7730337381362915\n",
            "Epoch:3850, Loss:0.459457665681839, val acc:0.8198198676109314, train acc:0.7730337381362915\n",
            "Epoch:3860, Loss:0.4593025743961334, val acc:0.8108108043670654, train acc:0.7741572856903076\n",
            "Epoch:3870, Loss:0.45909011363983154, val acc:0.8108108043670654, train acc:0.7730337381362915\n",
            "Epoch:3880, Loss:0.4589422047138214, val acc:0.8198198676109314, train acc:0.7730337381362915\n",
            "Epoch:3890, Loss:0.45880261063575745, val acc:0.8108108043670654, train acc:0.7719101309776306\n",
            "Epoch:3900, Loss:0.45865944027900696, val acc:0.8198198676109314, train acc:0.7730337381362915\n",
            "Epoch:3910, Loss:0.4585191607475281, val acc:0.8198198676109314, train acc:0.7719101309776306\n",
            "Epoch:3920, Loss:0.45838433504104614, val acc:0.8198198676109314, train acc:0.7730337381362915\n",
            "Epoch:3930, Loss:0.45857545733451843, val acc:0.8198198676109314, train acc:0.7707865238189697\n",
            "Epoch:3940, Loss:0.45817047357559204, val acc:0.8198198676109314, train acc:0.7719101309776306\n",
            "Epoch:3950, Loss:0.45789051055908203, val acc:0.8198198676109314, train acc:0.7730337381362915\n",
            "Epoch:3960, Loss:0.45775511860847473, val acc:0.8198198676109314, train acc:0.7786517143249512\n",
            "Epoch:3970, Loss:0.45758378505706787, val acc:0.8198198676109314, train acc:0.7730337381362915\n",
            "Epoch:3980, Loss:0.4574227035045624, val acc:0.8198198676109314, train acc:0.7764045000076294\n",
            "Epoch:3990, Loss:0.4573014974594116, val acc:0.8198198676109314, train acc:0.7752808928489685\n",
            "Epoch:4000, Loss:0.45715367794036865, val acc:0.8198198676109314, train acc:0.7741572856903076\n",
            "Epoch:4010, Loss:0.457014799118042, val acc:0.8198198676109314, train acc:0.7775281071662903\n",
            "Epoch:4020, Loss:0.45686012506484985, val acc:0.8198198676109314, train acc:0.7797752618789673\n",
            "Epoch:4030, Loss:0.45666104555130005, val acc:0.8198198676109314, train acc:0.7808988690376282\n",
            "Epoch:4040, Loss:0.45652157068252563, val acc:0.8198198676109314, train acc:0.7764045000076294\n",
            "Epoch:4050, Loss:0.45621877908706665, val acc:0.8108108043670654, train acc:0.7808988690376282\n",
            "Epoch:4060, Loss:0.4558899402618408, val acc:0.8108108043670654, train acc:0.7797752618789673\n",
            "Epoch:4070, Loss:0.4558611214160919, val acc:0.8198198676109314, train acc:0.7775281071662903\n",
            "Epoch:4080, Loss:0.455513596534729, val acc:0.8288288712501526, train acc:0.7797752618789673\n",
            "Epoch:4090, Loss:0.4552690386772156, val acc:0.8198198676109314, train acc:0.7808988690376282\n",
            "Epoch:4100, Loss:0.4551748037338257, val acc:0.8198198676109314, train acc:0.7775281071662903\n",
            "Epoch:4110, Loss:0.45496517419815063, val acc:0.8288288712501526, train acc:0.7808988690376282\n",
            "Epoch:4120, Loss:0.45483458042144775, val acc:0.8198198676109314, train acc:0.7808988690376282\n",
            "Epoch:4130, Loss:0.45481574535369873, val acc:0.8198198676109314, train acc:0.7764045000076294\n",
            "Epoch:4140, Loss:0.4545985460281372, val acc:0.8288288712501526, train acc:0.7808988690376282\n",
            "Epoch:4150, Loss:0.4544139504432678, val acc:0.8288288712501526, train acc:0.7786517143249512\n",
            "Epoch:4160, Loss:0.4543125033378601, val acc:0.8288288712501526, train acc:0.7786517143249512\n",
            "Epoch:4170, Loss:0.45422041416168213, val acc:0.8288288712501526, train acc:0.7797752618789673\n",
            "Epoch:4180, Loss:0.4541194438934326, val acc:0.8288288712501526, train acc:0.7775281071662903\n",
            "Epoch:4190, Loss:0.45397162437438965, val acc:0.8288288712501526, train acc:0.7752808928489685\n",
            "Epoch:4200, Loss:0.45389455556869507, val acc:0.8288288712501526, train acc:0.7797752618789673\n",
            "Epoch:4210, Loss:0.4536890685558319, val acc:0.8288288712501526, train acc:0.7764045000076294\n",
            "Epoch:4220, Loss:0.4533741772174835, val acc:0.8288288712501526, train acc:0.7775281071662903\n",
            "Epoch:4230, Loss:0.45294609665870667, val acc:0.8288288712501526, train acc:0.7797752618789673\n",
            "Epoch:4240, Loss:0.45266827940940857, val acc:0.8288288712501526, train acc:0.7797752618789673\n",
            "Epoch:4250, Loss:0.45245546102523804, val acc:0.8288288712501526, train acc:0.7808988690376282\n",
            "Epoch:4260, Loss:0.4523012042045593, val acc:0.8288288712501526, train acc:0.7820224761962891\n",
            "Epoch:4270, Loss:0.4525589346885681, val acc:0.8378378748893738, train acc:0.7808988690376282\n",
            "Epoch:4280, Loss:0.4521474838256836, val acc:0.8288288712501526, train acc:0.78314608335495\n",
            "Epoch:4290, Loss:0.4520789682865143, val acc:0.8288288712501526, train acc:0.7808988690376282\n",
            "Epoch:4300, Loss:0.4517752230167389, val acc:0.8288288712501526, train acc:0.78314608335495\n",
            "Epoch:4310, Loss:0.4516974687576294, val acc:0.8288288712501526, train acc:0.78314608335495\n",
            "Epoch:4320, Loss:0.4515649676322937, val acc:0.8288288712501526, train acc:0.78314608335495\n",
            "Epoch:4330, Loss:0.451444149017334, val acc:0.8288288712501526, train acc:0.7808988690376282\n",
            "Epoch:4340, Loss:0.45133039355278015, val acc:0.8288288712501526, train acc:0.7808988690376282\n",
            "Epoch:4350, Loss:0.45135292410850525, val acc:0.8198198676109314, train acc:0.78314608335495\n",
            "Epoch:4360, Loss:0.45122095942497253, val acc:0.8288288712501526, train acc:0.7808988690376282\n",
            "Epoch:4370, Loss:0.45107588171958923, val acc:0.8288288712501526, train acc:0.78314608335495\n",
            "Epoch:4380, Loss:0.4509583115577698, val acc:0.8288288712501526, train acc:0.7820224761962891\n",
            "Epoch:4390, Loss:0.45089757442474365, val acc:0.8288288712501526, train acc:0.7820224761962891\n",
            "Epoch:4400, Loss:0.45081043243408203, val acc:0.8198198676109314, train acc:0.78314608335495\n",
            "Epoch:4410, Loss:0.45073771476745605, val acc:0.8198198676109314, train acc:0.78314608335495\n",
            "Epoch:4420, Loss:0.4506145417690277, val acc:0.8288288712501526, train acc:0.7842696905136108\n",
            "Epoch:4430, Loss:0.45062029361724854, val acc:0.8198198676109314, train acc:0.7808988690376282\n",
            "Epoch:4440, Loss:0.45054006576538086, val acc:0.8198198676109314, train acc:0.785393238067627\n",
            "Epoch:4450, Loss:0.450346440076828, val acc:0.8198198676109314, train acc:0.7842696905136108\n",
            "Epoch:4460, Loss:0.45028355717658997, val acc:0.8198198676109314, train acc:0.7842696905136108\n",
            "Epoch:4470, Loss:0.4502076506614685, val acc:0.8198198676109314, train acc:0.7842696905136108\n",
            "Epoch:4480, Loss:0.4501504600048065, val acc:0.8198198676109314, train acc:0.78314608335495\n",
            "Epoch:4490, Loss:0.4500787556171417, val acc:0.8198198676109314, train acc:0.78314608335495\n",
            "Epoch:4500, Loss:0.4500197470188141, val acc:0.8198198676109314, train acc:0.7820224761962891\n",
            "Epoch:4510, Loss:0.44993969798088074, val acc:0.8198198676109314, train acc:0.78314608335495\n",
            "Epoch:4520, Loss:0.4498732388019562, val acc:0.8198198676109314, train acc:0.78314608335495\n",
            "Epoch:4530, Loss:0.4497767686843872, val acc:0.8198198676109314, train acc:0.7842696905136108\n",
            "Epoch:4540, Loss:0.4497147798538208, val acc:0.8198198676109314, train acc:0.7865168452262878\n",
            "Epoch:4550, Loss:0.4496782422065735, val acc:0.8198198676109314, train acc:0.785393238067627\n",
            "Epoch:4560, Loss:0.44958633184432983, val acc:0.8198198676109314, train acc:0.78314608335495\n",
            "Epoch:4570, Loss:0.4495766758918762, val acc:0.8198198676109314, train acc:0.78314608335495\n",
            "Epoch:4580, Loss:0.44956913590431213, val acc:0.8108108043670654, train acc:0.7865168452262878\n",
            "Epoch:4590, Loss:0.44933655858039856, val acc:0.8198198676109314, train acc:0.78314608335495\n",
            "Epoch:4600, Loss:0.4492414593696594, val acc:0.8198198676109314, train acc:0.785393238067627\n",
            "Epoch:4610, Loss:0.44923102855682373, val acc:0.8198198676109314, train acc:0.7865168452262878\n",
            "Epoch:4620, Loss:0.44911688566207886, val acc:0.8198198676109314, train acc:0.7842696905136108\n",
            "Epoch:4630, Loss:0.4490991234779358, val acc:0.8198198676109314, train acc:0.7797752618789673\n",
            "Epoch:4640, Loss:0.44896963238716125, val acc:0.8198198676109314, train acc:0.7865168452262878\n",
            "Epoch:4650, Loss:0.44884148240089417, val acc:0.8198198676109314, train acc:0.7842696905136108\n",
            "Epoch:4660, Loss:0.4487795829772949, val acc:0.8198198676109314, train acc:0.785393238067627\n",
            "Epoch:4670, Loss:0.44871026277542114, val acc:0.8288288712501526, train acc:0.785393238067627\n",
            "Epoch:4680, Loss:0.4485766589641571, val acc:0.8288288712501526, train acc:0.7842696905136108\n",
            "Epoch:4690, Loss:0.44866126775741577, val acc:0.8288288712501526, train acc:0.7808988690376282\n",
            "Epoch:4700, Loss:0.44846639037132263, val acc:0.8198198676109314, train acc:0.7876404523849487\n",
            "Epoch:4710, Loss:0.44833168387413025, val acc:0.8288288712501526, train acc:0.7797752618789673\n",
            "Epoch:4720, Loss:0.4481916129589081, val acc:0.8288288712501526, train acc:0.7842696905136108\n",
            "Epoch:4730, Loss:0.44809889793395996, val acc:0.8288288712501526, train acc:0.7865168452262878\n",
            "Epoch:4740, Loss:0.4481021463871002, val acc:0.8288288712501526, train acc:0.7820224761962891\n",
            "Epoch:4750, Loss:0.4479585587978363, val acc:0.8198198676109314, train acc:0.7865168452262878\n",
            "Epoch:4760, Loss:0.4478748142719269, val acc:0.8288288712501526, train acc:0.785393238067627\n",
            "Epoch:4770, Loss:0.4479312598705292, val acc:0.846846878528595, train acc:0.7808988690376282\n",
            "Epoch:4780, Loss:0.44771677255630493, val acc:0.8198198676109314, train acc:0.7865168452262878\n",
            "Epoch:4790, Loss:0.4476202428340912, val acc:0.8288288712501526, train acc:0.7842696905136108\n",
            "Epoch:4800, Loss:0.44754520058631897, val acc:0.8378378748893738, train acc:0.7842696905136108\n",
            "Epoch:4810, Loss:0.4474853277206421, val acc:0.8378378748893738, train acc:0.7842696905136108\n",
            "Epoch:4820, Loss:0.447548508644104, val acc:0.846846878528595, train acc:0.7820224761962891\n",
            "Epoch:4830, Loss:0.4473460018634796, val acc:0.8198198676109314, train acc:0.785393238067627\n",
            "Epoch:4840, Loss:0.4472154676914215, val acc:0.8378378748893738, train acc:0.785393238067627\n",
            "Epoch:4850, Loss:0.4471454918384552, val acc:0.8378378748893738, train acc:0.785393238067627\n",
            "Epoch:4860, Loss:0.4471208453178406, val acc:0.8198198676109314, train acc:0.7876404523849487\n",
            "Epoch:4870, Loss:0.44712430238723755, val acc:0.846846878528595, train acc:0.78314608335495\n",
            "Epoch:4880, Loss:0.44691401720046997, val acc:0.8288288712501526, train acc:0.7865168452262878\n",
            "Epoch:4890, Loss:0.44684290885925293, val acc:0.8198198676109314, train acc:0.7876404523849487\n",
            "Epoch:4900, Loss:0.44682493805885315, val acc:0.8378378748893738, train acc:0.7842696905136108\n",
            "Epoch:4910, Loss:0.4467332661151886, val acc:0.8198198676109314, train acc:0.7876404523849487\n",
            "Epoch:4920, Loss:0.44663482904434204, val acc:0.846846878528595, train acc:0.7842696905136108\n",
            "Epoch:4930, Loss:0.4464831054210663, val acc:0.8288288712501526, train acc:0.7865168452262878\n",
            "Epoch:4940, Loss:0.4463798701763153, val acc:0.8288288712501526, train acc:0.7887640595436096\n",
            "Epoch:4950, Loss:0.4462711811065674, val acc:0.8288288712501526, train acc:0.7876404523849487\n",
            "Epoch:4960, Loss:0.4463568329811096, val acc:0.8198198676109314, train acc:0.7898876667022705\n",
            "Epoch:4970, Loss:0.4463097155094147, val acc:0.846846878528595, train acc:0.7842696905136108\n",
            "Epoch:4980, Loss:0.44625717401504517, val acc:0.8198198676109314, train acc:0.7921348214149475\n",
            "Epoch:4990, Loss:0.4460555911064148, val acc:0.846846878528595, train acc:0.7865168452262878\n",
            "Epoch:5000, Loss:0.44589439034461975, val acc:0.8288288712501526, train acc:0.7876404523849487\n"
          ]
        }
      ]
    },
    {
      "cell_type": "code",
      "source": [
        "print(\"Test accuracy: \", validate(model, test_features.to(device), test_a_norm.to(device), test_labels.to(device), test_batch_idx.to(device) ,criterion))"
      ],
      "metadata": {
        "colab": {
          "base_uri": "https://localhost:8080/"
        },
        "id": "h6RuSTYur9KA",
        "outputId": "2b8325e1-007b-4d2c-a3e7-b124e4d185ce"
      },
      "execution_count": null,
      "outputs": [
        {
          "output_type": "stream",
          "name": "stdout",
          "text": [
            "Test accuracy:  0.723214328289032\n"
          ]
        }
      ]
    },
    {
      "cell_type": "code",
      "source": [
        "show_epoch_plot(epoch_loss, \"Training loss\", \"Loss\")\n",
        "print(\"\")\n",
        "show_epoch_plot(train_accs, \"Training accuracy\", \"Accuracy \")\n",
        "print(\"\")\n",
        "show_epoch_plot(val_accs, \"Validation accuracy\", \"Accuracy \")"
      ],
      "metadata": {
        "id": "IpHrlvqA9mWU",
        "colab": {
          "base_uri": "https://localhost:8080/",
          "height": 886
        },
        "outputId": "740951d8-c7e5-477a-f142-baab3af0eb44"
      },
      "execution_count": null,
      "outputs": [
        {
          "output_type": "display_data",
          "data": {
            "image/png": "[encoded data removed]",
            "text/plain": [
              "<Figure size 432x288 with 1 Axes>"
            ]
          },
          "metadata": {
            "needs_background": "light"
          }
        },
        {
          "output_type": "stream",
          "name": "stdout",
          "text": [
            "\n"
          ]
        },
        {
          "output_type": "display_data",
          "data": {
            "image/png": "[encoded data removed]",
            "text/plain": [
              "<Figure size 432x288 with 1 Axes>"
            ]
          },
          "metadata": {
            "needs_background": "light"
          }
        },
        {
          "output_type": "stream",
          "name": "stdout",
          "text": [
            "\n"
          ]
        },
        {
          "output_type": "display_data",
          "data": {
            "image/png": "[encoded data removed]",
            "text/plain": [
              "<Figure size 432x288 with 1 Axes>"
            ]
          },
          "metadata": {
            "needs_background": "light"
          }
        }
      ]
    },
    {
      "cell_type": "markdown",
      "source": [
        "We report a final test accuracy of 72.3% and final validation accuracy of 83.4%. We observe that the training loss decreases rapidly initially but as training progresses, the training loss plateaus indicating that the model might be stuck in a local minima. We performed an experiment by only decreasing the learning rate to 0.5e-3 and observed a better loss curve which suggests that the model might converge to a better solution. \n",
        "\n",
        "Another intresting observation is that there is a big difference (9%) in the test and validation accuracy with validation accuracy being higher. A probable explanation for this is that the random split generated from the seed assigns more difficult samples to the test set. We confirm our hypothesis by running an experimnet using different seeds to split the dataset. This resulted in a lower difference (2%) between the final test and validation accuracy. In order to get a better indicator of both test and validation accuracy, we could run k-fold cross validation and take the average of final models.  \n",
        "\n"
      ],
      "metadata": {
        "id": "XMaMU4U4rRnl"
      }
    },
    {
      "cell_type": "markdown",
      "metadata": {
        "id": "MvmAfDNMcnKD"
      },
      "source": [
        "## The end\n",
        "\n",
        "If you have made it all the way here successfully, congratulations! 🎉 \n",
        "\n",
        "You have implemented your own GCN and tested it on a node classification task, and a more challenging classification task over multiple graphs.\n",
        "\n",
        "We hope you can use this knowledge to apply GCNs not only to the tasks described here, but other applications where data can be modeled as a graph.\n",
        "\n",
        "If you are interested in applying graph neural networks to larger graphs, or try newer architectures, you can dive deeper into [PyTorch Geometric](https://pytorch-geometric.readthedocs.io/en/latest/), a library with fast implementations for a wide range of architectures. It also comes with custom code that takes care of aspects that you dealt with manually for this assignment, like a more efficient implementation of the adjacency matrix multiplication via message-passing methods, and Data Loaders that relieve you from having to build block diagonal sparse matrices.\n",
        "\n",
        "You can also check the [Deep Graph Library](https://docs.dgl.ai/) another powerful library for deep learning on graphs which also integrates with other backends like TensorFlow."
      ]
    },
    {
      "cell_type": "markdown",
      "metadata": {
        "id": "l7QhyAMms8-L"
      },
      "source": [
        "# Grading (10pt)"
      ]
    },
    {
      "cell_type": "markdown",
      "metadata": {
        "id": "juIdxXhos-mV"
      },
      "source": [
        "- Question 1: 0.25pt \n",
        "- Question 2: 0.25pt \n",
        "- Question 3: 0.5pt \n",
        "- Question 4: 0.25pt \n",
        "- Question 5: 0.5pt \n",
        "- Question 6: 0.5pt \n",
        "- Question 7: 0.5pt \n",
        "- Question 8: 0.5pt \n",
        "- Question 9: 1.5pt \n",
        "- Question 10: 0.5pt \n",
        "- Question 11: 0.25pt \n",
        "- Question 12: 0.5pt \n",
        "- Question 13: 0.5pt \n",
        "- Question 14: 1pt\n",
        "- Question 15: 1pt\n",
        "- Question 16: 1.5pt"
      ]
    },
    {
      "cell_type": "code",
      "source": [
        ""
      ],
      "metadata": {
        "id": "riRPe5EM0xJs"
      },
      "execution_count": null,
      "outputs": []
    }
  ]
}